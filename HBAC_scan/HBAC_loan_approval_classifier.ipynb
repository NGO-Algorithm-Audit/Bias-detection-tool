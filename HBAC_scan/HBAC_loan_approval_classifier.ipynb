{
 "cells": [
  {
   "cell_type": "markdown",
   "id": "41d0429e",
   "metadata": {},
   "source": [
    "## Applying the bias scan tool on a loan approval classifier\n",
    "In this notebook, the bias scan tool is applied on a XGBoost loan approval classifier. The bias scan tool is based on an implementation of the k-means Hierarchical Bias Aware Clustering (HBAC) method\\*. The python script `./helper_functions.py` contains functions that execute the bias scan. A conceptual description how the bias scan works, including the rationale why k-means is chosen as a clustering algorithm and paramater choices, can be found in the [bias scan report](https://github.com/NGO-Algorithm-Audit/Bias_scan/blob/master/Bias_scan_tool_report.pdf) (technical documentation).\n",
    "\n",
    "An XGBoost classifier is trained to make predictions on the German Credit\\*\\* data set. Details on pre-processing steps performed on this dataset and the trained XGBoost classifier are provided in the `../case_studies/Loan_approval_classifier/GermanCredit_classifier.ipynb` notebook.\n",
    "\n",
    "\\* Misztal-Radecka, Indurkya, *Information Processing and Management*. Bias-Aware Hierarchical Clustering for detecting the discriminated groups of users in recommendation systems (2021).\n",
    "\n",
    "\\*\\* the original dataset, in the form provided by Prof. Hofmann, contains categorical/symbolic attributes which is contained in the file \"german.data\" [[link to dataset]](https://archive.ics.uci.edu/ml/datasets/Statlog+%28German+Credit+Data%29)"
   ]
  },
  {
   "cell_type": "markdown",
   "id": "9b427060",
   "metadata": {},
   "source": [
    "### Overview of the notebook\n",
    "1. Load data and pre-processing\n",
    "2. Bias scan using k-means clustering\n",
    "3. Clustering results\n",
    "4. Statistical testing of inter-cluster difference "
   ]
  },
  {
   "cell_type": "markdown",
   "id": "e914c397",
   "metadata": {},
   "source": [
    "### Load libraries"
   ]
  },
  {
   "cell_type": "code",
   "execution_count": null,
   "id": "f5ca5800",
   "metadata": {},
   "outputs": [],
   "source": [
    "import warnings\n",
    "warnings.filterwarnings('ignore')\n",
    "import numpy as np\n",
    "import pandas as pd\n",
    "import seaborn as sns\n",
    "import matplotlib.pyplot as plt\n",
    "from IPython.display import Markdown, display\n",
    "\n",
    "# helper functions\n",
    "from helper_functions import *\n",
    "\n",
    "# sklearn\n",
    "from sklearn.preprocessing import StandardScaler\n",
    "\n",
    "# welch's t-test\n",
    "import scipy.stats as stats"
   ]
  },
  {
   "cell_type": "markdown",
   "id": "9243bc37",
   "metadata": {},
   "source": [
    "### 1. Load data and pre-processing\n",
    "#### Load data"
   ]
  },
  {
   "cell_type": "code",
   "execution_count": null,
   "id": "b168db66",
   "metadata": {},
   "outputs": [],
   "source": [
    "path = '../classifiers/Loan_approval_classifier/pred_XGBoost.csv'\n",
    "\n",
    "# read data\n",
    "entire_dataset = pd.read_csv(path)\n",
    "entire_dataset.head()"
   ]
  },
  {
   "cell_type": "markdown",
   "id": "fb668fa4",
   "metadata": {},
   "source": [
    "#### Data cleaning"
   ]
  },
  {
   "cell_type": "code",
   "execution_count": null,
   "id": "dc04ea59",
   "metadata": {},
   "outputs": [],
   "source": [
    "features = entire_dataset.drop(['predicted_class', 'true_class', 'errors'], axis=1)\n",
    "features.head()"
   ]
  },
  {
   "cell_type": "markdown",
   "id": "5d7c64b0",
   "metadata": {},
   "source": [
    "#### Scaling data"
   ]
  },
  {
   "cell_type": "code",
   "execution_count": null,
   "id": "191c2209",
   "metadata": {},
   "outputs": [],
   "source": [
    "full_data = init_GermanCredit_dataset(entire_dataset,features)\n",
    "full_data.head()"
   ]
  },
  {
   "cell_type": "markdown",
   "id": "a242b0a5",
   "metadata": {},
   "source": [
    "### 2. Bias scan using k-means clustering\n",
    "Clustering algorithms parameters:"
   ]
  },
  {
   "cell_type": "code",
   "execution_count": null,
   "id": "c6655061",
   "metadata": {},
   "outputs": [],
   "source": [
    "clustering_paramaters = {\n",
    "    \"n_clusters\": 3,\n",
    "    \"init\": \"k-means++\",\n",
    "    \"n_init\": 20,\n",
    "    \"max_iter\": 300,\n",
    "    \"random_state\": 10,\n",
    "}"
   ]
  },
  {
   "cell_type": "markdown",
   "id": "da77b377",
   "metadata": {},
   "source": [
    "Specify:\n",
    "- Minimal splittable cluster size\n",
    "- Minimal acceptable cluster size"
   ]
  },
  {
   "cell_type": "code",
   "execution_count": null,
   "id": "852049c8",
   "metadata": {},
   "outputs": [],
   "source": [
    "# minimal splittable cluster size\n",
    "split_cluster_size = round(0.05 * len(full_data))\n",
    "print(\"minimal splittable cluster size: \", split_cluster_size)\n",
    "\n",
    "# minimal acceptable cluster size\n",
    "acc_cluster_size = round(0.03 * len(full_data))\n",
    "print(\"minimal splitacceptabletable cluster size: \", acc_cluster_size)"
   ]
  },
  {
   "cell_type": "markdown",
   "id": "86495c36",
   "metadata": {},
   "source": [
    "Performing bias scan using helper functions."
   ]
  },
  {
   "cell_type": "code",
   "execution_count": null,
   "id": "0d7f158e",
   "metadata": {
    "scrolled": false
   },
   "outputs": [],
   "source": [
    "metric = 'accuracy'\n",
    "iterations_max = 20\n",
    "x = 0 # initial cluster number\n",
    "initial_bias = 0\n",
    "variance_list = []\n",
    "average_accuracy = accuracy(full_data, metric)\n",
    "minimal_splittable_cluster_size = 18\n",
    "minimal_acceptable_cluster_size = 10\n",
    "print(\"average_accuracy is: \", average_accuracy) \n",
    "\n",
    "for i in range(1, iterations_max):\n",
    "    if i != 1:\n",
    "        variance_list.append(calculate_variance(full_data,metric)) \n",
    "    full_data['new_clusters'] = -1\n",
    "    candidate_cluster = full_data.loc[full_data['clusters'] == x] \n",
    "\n",
    "    if len(candidate_cluster) < minimal_splittable_cluster_size:\n",
    "        x = get_random_cluster(full_data['clusters'])\n",
    "        continue\n",
    "    \n",
    "    # Apply Kmeans \n",
    "    kmeans_algo = KMeans(**clustering_paramaters).fit(candidate_cluster.drop(['clusters', 'new_clusters', 'predicted_class', 'true_class', 'errors'], axis=1))\n",
    "    \n",
    "    candidate_cluster['new_clusters'] = pd.DataFrame(kmeans_algo.predict(candidate_cluster.drop(['clusters', 'new_clusters', 'predicted_class', 'true_class', 'errors'], axis=1)),index=candidate_cluster.index) \n",
    "    full_data['new_clusters'] = candidate_cluster['new_clusters'].combine_first(full_data['new_clusters'])\n",
    "\n",
    "    max_abs_bias = get_max_negative_bias(full_data,metric) # was get_max_abs_bias, but now it only finds the discriminated clusters\n",
    "    min_new_size = get_min_cluster_size(full_data)\n",
    "    \n",
    "    if (max_abs_bias <= initial_bias) & (min_new_size > minimal_acceptable_cluster_size): #abs: >\n",
    "        # add new cluster\n",
    "        n_cluster = max(full_data['clusters'])\n",
    "        full_data['clusters'][full_data['new_clusters'] == 1] =  n_cluster + 1\n",
    "        \n",
    "        x = get_next_cluster(full_data)\n",
    "        initial_bias = max_abs_bias\n",
    "    else:\n",
    "        x = get_random_cluster(full_data['clusters'])\n",
    "        \n",
    "print('done')"
   ]
  },
  {
   "cell_type": "markdown",
   "id": "174f28cc",
   "metadata": {},
   "source": [
    "### 3. Analysing clustering results\n",
    "Identifying cluster with most negative bias."
   ]
  },
  {
   "cell_type": "code",
   "execution_count": null,
   "id": "c0535403",
   "metadata": {},
   "outputs": [],
   "source": [
    "c = get_max_bias_cluster(full_data, metric)\n",
    "max_bias = round(bias_acc(full_data, metric, c, \"clusters\"), 2)\n",
    "highest_biased_cluster = full_data[full_data['clusters']==c]\n",
    "print(f\"cluster {c} has the highest negative bias: \" + str(max_bias))\n",
    "print(\"#elements in highest biased cluster:\", len(highest_biased_cluster))"
   ]
  },
  {
   "cell_type": "markdown",
   "id": "c01e1b54",
   "metadata": {},
   "source": [
    "Accuracy of classifier on full dataset and on cluster with highest discrimination bias."
   ]
  },
  {
   "cell_type": "code",
   "execution_count": null,
   "id": "9084169c",
   "metadata": {},
   "outputs": [],
   "source": [
    "accuracy_full_data = accuracy(full_data, metric)\n",
    "most_biased_cluster_kmeans_aware = bias_acc(full_data, metric, c, 'clusters')\n",
    "full_data[full_data['clusters']==c]\n",
    "\n",
    "print('General accuracy of classifier on this dataset:', accuracy_full_data)"
   ]
  },
  {
   "cell_type": "markdown",
   "id": "b7fb5567",
   "metadata": {},
   "source": [
    "Select and print discriminated cluser."
   ]
  },
  {
   "cell_type": "code",
   "execution_count": null,
   "id": "9d343ad1",
   "metadata": {},
   "outputs": [],
   "source": [
    "c=c\n",
    "discriminated_cluster = full_data[full_data['clusters']==c]\n",
    "print('Number of instances in discriminated cluster:', len(discriminated_cluster))\n",
    "print('Number of errors in discriminated clusters: ', len(discriminated_cluster.loc[discriminated_cluster['errors']==1]))\n",
    "discriminated_cluster"
   ]
  },
  {
   "cell_type": "markdown",
   "id": "6c776747",
   "metadata": {},
   "source": [
    "### 4. Statistical testing of inter-cluster difference \n",
    "Compute difference between cluster with highest discrimination bias and rest of dataset."
   ]
  },
  {
   "cell_type": "code",
   "execution_count": null,
   "id": "840ee7e5",
   "metadata": {
    "scrolled": false
   },
   "outputs": [],
   "source": [
    "not_discriminated = full_data[full_data['clusters']!=c]\n",
    "difference = (discriminated_cluster.mean()) - (not_discriminated.mean()) \n",
    "diff_dict = difference.to_dict()\n",
    "difference"
   ]
  },
  {
   "cell_type": "markdown",
   "id": "a62aad21",
   "metadata": {},
   "source": [
    "Unscaling the data. Print summary of cluster with highest discrimination bias and the rest of data."
   ]
  },
  {
   "cell_type": "code",
   "execution_count": null,
   "id": "d5793bb0",
   "metadata": {},
   "outputs": [],
   "source": [
    "# unscaling the discriminated cluster\n",
    "unscaled_discriminated = full_data.loc[discriminated_cluster.index, :]\n",
    "\n",
    "# unscaled other data\n",
    "unscaled_remaining = full_data.drop(discriminated_cluster.index)\n",
    "\n",
    "display(unscaled_remaining.describe())\n",
    "display(unscaled_discriminated.describe())\n",
    "\n",
    "print(discriminated_cluster.index)"
   ]
  },
  {
   "cell_type": "code",
   "execution_count": null,
   "id": "d9332f5d",
   "metadata": {},
   "outputs": [],
   "source": [
    "unscaled_discriminated"
   ]
  },
  {
   "cell_type": "markdown",
   "id": "1742e7d3",
   "metadata": {},
   "source": [
    "####  Test to check statistical significance of inter-cluster difference (per feature)\n",
    "Applying a Welch’s two-samples t-test for unequal variances to examine whether the differences in means for each feature are statistically significant and store results in a dictionary."
   ]
  },
  {
   "cell_type": "code",
   "execution_count": null,
   "id": "5e20a854",
   "metadata": {},
   "outputs": [],
   "source": [
    "welch_dict = {}\n",
    "\n",
    "features = [col for col in full_data.columns.tolist() if col not in ['scaled_errors','predicted_class','true_class','errors','clusters','new_clusters']]\n",
    "    \n",
    "for i in features:\n",
    "    welch_i = stats.ttest_ind(unscaled_discriminated[i], unscaled_remaining[i], equal_var=False)\n",
    "    \n",
    "    # attach to dictionary\n",
    "    welch_dict[i] = welch_i.pvalue\n",
    "    \n",
    "welch_dict"
   ]
  },
  {
   "cell_type": "markdown",
   "id": "269e219e",
   "metadata": {},
   "source": [
    "#### p-values\n",
    "A small p-value (p < 0.05) indicates that it is unlikely to observe inter-cluster difference due to chance. Sort difference on statistical significance (p-value)."
   ]
  },
  {
   "cell_type": "code",
   "execution_count": null,
   "id": "62be4905",
   "metadata": {},
   "outputs": [],
   "source": [
    "pd.set_option('display.float_format', lambda x: '%.5f' % x)\n",
    "pd.set_option(\"display.max_rows\", None, \"display.max_columns\", None)\n",
    "cluster_analysis_df = pd.DataFrame([diff_dict, welch_dict]).T\n",
    "cluster_analysis_df.columns = ['difference','p-value']\n",
    "cluster_analysis_df = cluster_analysis_df.sort_values('p-value')\n",
    "cluster_analysis_df"
   ]
  },
  {
   "cell_type": "markdown",
   "id": "c2edd615",
   "metadata": {},
   "source": [
    "#### Conclusion\n",
    "Suspected negative bias by the classifier on the basis of (p<0.05):\n",
    "- Housing (`housing=A151,A152,A153`);\n",
    "- Property real estate or unknown (`property=A121,A124`);\n",
    "- Other debtors (`other_debtors=A101,A102,A103`);\n",
    "- Employment (`employment=A71`);\n",
    "- Installment plans (`installment_plans=A142,A=143`);\n",
    "- Foreign worker (`foreign_worker=A201,A202`);\n",
    "- Month (`month`);\n",
    "- Investment as percentage of annual income (`investment_as_income_percentage`);\n",
    "- Gender (`sex`);\n",
    "- Present residence since (`residence since`);\n",
    "- Age in years (`age`)\n",
    "- Type of property (`property=A42,A44,A45`);\n",
    "- Job type (`skill_level=A174`);\n",
    "- Amount of credit requested (`credit_amount`).\n",
    "\n",
    "This means that loan applicants with the above features on average are significantly less often approved by the XGBoost classifier. An exact description of the features can be found [here](https://archive.ics.uci.edu/ml/datasets/Statlog+%28German+Credit+Data%29).\n",
    "\n",
    "#### What's next?\n",
    "Qualitative assessment with the help of subject matter experts to verify the measured quantitaive disparities. Additionally, sensitivity testing would be beneficial to shed light into the robustness of the bias scan tool. "
   ]
  }
 ],
 "metadata": {
  "kernelspec": {
   "display_name": "Python 3 (ipykernel)",
   "language": "python",
   "name": "python3"
  },
  "language_info": {
   "codemirror_mode": {
    "name": "ipython",
    "version": 3
   },
   "file_extension": ".py",
   "mimetype": "text/x-python",
   "name": "python",
   "nbconvert_exporter": "python",
   "pygments_lexer": "ipython3",
   "version": "3.10.12"
  }
 },
 "nbformat": 4,
 "nbformat_minor": 5
}
