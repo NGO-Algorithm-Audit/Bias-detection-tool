{
 "cells": [
  {
   "cell_type": "markdown",
   "id": "04ad3987",
   "metadata": {},
   "source": [
    "## Loan approval classifier\n",
    "In this notebooks a XGBoost loan approval classifier for credit application is trained. Overview of this notebook: \n",
    "1. Load data\n",
    "2. Explanatory data analysis\n",
    "3. Split features, labels, train, validate and test set\n",
    "4. Train XGBoost\n",
    "5. Make prediction\n",
    "6. Export predictions\n",
    "\n",
    "To build this classifier an online tutorial was consulted: https://towardsdatascience.com/fine-tuning-bert-for-text-classification-54e7df642894."
   ]
  },
  {
   "cell_type": "markdown",
   "id": "e914c397",
   "metadata": {},
   "source": [
    "### Load libraries and helper code"
   ]
  },
  {
   "cell_type": "code",
   "execution_count": 1,
   "id": "f5ca5800",
   "metadata": {},
   "outputs": [
    {
     "name": "stderr",
     "output_type": "stream",
     "text": [
      "WARNING:root:No module named 'tempeh': LawSchoolGPADataset will be unavailable. To install, run:\n",
      "pip install 'aif360[LawSchoolGPA]'\n"
     ]
    }
   ],
   "source": [
    "import sys\n",
    "import random\n",
    "import warnings\n",
    "warnings.filterwarnings('ignore')\n",
    "\n",
    "import numpy as np\n",
    "import pandas as pd\n",
    "import seaborn as sns\n",
    "from IPython.display import Markdown, display\n",
    "\n",
    "# matplotlib\n",
    "import matplotlib as mpl\n",
    "import matplotlib.pyplot as plt\n",
    "\n",
    "# sklearn\n",
    "from sklearn.metrics import accuracy_score\n",
    "from sklearn.ensemble import RandomForestClassifier\n",
    "from sklearn.model_selection import train_test_split\n",
    "from sklearn.metrics import confusion_matrix, ConfusionMatrixDisplay\n",
    "\n",
    "# xgboost classifier\n",
    "from xgboost import XGBClassifier\n",
    "\n",
    "# initialize dataset\n",
    "from helper_functions import *"
   ]
  },
  {
   "cell_type": "markdown",
   "id": "9243bc37",
   "metadata": {},
   "source": [
    "### 1. Load data\n",
    "Load one-hot encoded version of German Credit dataset."
   ]
  },
  {
   "cell_type": "code",
   "execution_count": 2,
   "id": "d8776058",
   "metadata": {},
   "outputs": [],
   "source": [
    "gd = GermanDataset(\n",
    "    \n",
    "    # default pre-processing\n",
    "    custom_preprocessing=default_preprocessing\n",
    ")"
   ]
  },
  {
   "cell_type": "markdown",
   "id": "f3a6ab68",
   "metadata": {},
   "source": [
    "Convert to pandas data frame."
   ]
  },
  {
   "cell_type": "code",
   "execution_count": 3,
   "id": "80aea605",
   "metadata": {},
   "outputs": [
    {
     "data": {
      "text/html": [
       "<div>\n",
       "<style scoped>\n",
       "    .dataframe tbody tr th:only-of-type {\n",
       "        vertical-align: middle;\n",
       "    }\n",
       "\n",
       "    .dataframe tbody tr th {\n",
       "        vertical-align: top;\n",
       "    }\n",
       "\n",
       "    .dataframe thead th {\n",
       "        text-align: right;\n",
       "    }\n",
       "</style>\n",
       "<table border=\"1\" class=\"dataframe\">\n",
       "  <thead>\n",
       "    <tr style=\"text-align: right;\">\n",
       "      <th></th>\n",
       "      <th>month</th>\n",
       "      <th>credit_amount</th>\n",
       "      <th>investment_as_income_percentage</th>\n",
       "      <th>residence_since</th>\n",
       "      <th>age</th>\n",
       "      <th>number_of_credits</th>\n",
       "      <th>people_liable_for</th>\n",
       "      <th>sex</th>\n",
       "      <th>status=A11</th>\n",
       "      <th>status=A12</th>\n",
       "      <th>...</th>\n",
       "      <th>housing=A153</th>\n",
       "      <th>skill_level=A171</th>\n",
       "      <th>skill_level=A172</th>\n",
       "      <th>skill_level=A173</th>\n",
       "      <th>skill_level=A174</th>\n",
       "      <th>telephone=A191</th>\n",
       "      <th>telephone=A192</th>\n",
       "      <th>foreign_worker=A201</th>\n",
       "      <th>foreign_worker=A202</th>\n",
       "      <th>credit</th>\n",
       "    </tr>\n",
       "  </thead>\n",
       "  <tbody>\n",
       "    <tr>\n",
       "      <th>0</th>\n",
       "      <td>6.0</td>\n",
       "      <td>1169.0</td>\n",
       "      <td>4.0</td>\n",
       "      <td>4.0</td>\n",
       "      <td>67.0</td>\n",
       "      <td>2.0</td>\n",
       "      <td>1.0</td>\n",
       "      <td>0.0</td>\n",
       "      <td>1.0</td>\n",
       "      <td>0.0</td>\n",
       "      <td>...</td>\n",
       "      <td>0.0</td>\n",
       "      <td>0.0</td>\n",
       "      <td>0.0</td>\n",
       "      <td>1.0</td>\n",
       "      <td>0.0</td>\n",
       "      <td>0.0</td>\n",
       "      <td>1.0</td>\n",
       "      <td>1.0</td>\n",
       "      <td>0.0</td>\n",
       "      <td>0.0</td>\n",
       "    </tr>\n",
       "    <tr>\n",
       "      <th>1</th>\n",
       "      <td>48.0</td>\n",
       "      <td>5951.0</td>\n",
       "      <td>2.0</td>\n",
       "      <td>2.0</td>\n",
       "      <td>22.0</td>\n",
       "      <td>1.0</td>\n",
       "      <td>1.0</td>\n",
       "      <td>1.0</td>\n",
       "      <td>0.0</td>\n",
       "      <td>1.0</td>\n",
       "      <td>...</td>\n",
       "      <td>0.0</td>\n",
       "      <td>0.0</td>\n",
       "      <td>0.0</td>\n",
       "      <td>1.0</td>\n",
       "      <td>0.0</td>\n",
       "      <td>1.0</td>\n",
       "      <td>0.0</td>\n",
       "      <td>1.0</td>\n",
       "      <td>0.0</td>\n",
       "      <td>1.0</td>\n",
       "    </tr>\n",
       "    <tr>\n",
       "      <th>2</th>\n",
       "      <td>12.0</td>\n",
       "      <td>2096.0</td>\n",
       "      <td>2.0</td>\n",
       "      <td>3.0</td>\n",
       "      <td>49.0</td>\n",
       "      <td>1.0</td>\n",
       "      <td>2.0</td>\n",
       "      <td>0.0</td>\n",
       "      <td>0.0</td>\n",
       "      <td>0.0</td>\n",
       "      <td>...</td>\n",
       "      <td>0.0</td>\n",
       "      <td>0.0</td>\n",
       "      <td>1.0</td>\n",
       "      <td>0.0</td>\n",
       "      <td>0.0</td>\n",
       "      <td>1.0</td>\n",
       "      <td>0.0</td>\n",
       "      <td>1.0</td>\n",
       "      <td>0.0</td>\n",
       "      <td>0.0</td>\n",
       "    </tr>\n",
       "    <tr>\n",
       "      <th>3</th>\n",
       "      <td>42.0</td>\n",
       "      <td>7882.0</td>\n",
       "      <td>2.0</td>\n",
       "      <td>4.0</td>\n",
       "      <td>45.0</td>\n",
       "      <td>1.0</td>\n",
       "      <td>2.0</td>\n",
       "      <td>0.0</td>\n",
       "      <td>1.0</td>\n",
       "      <td>0.0</td>\n",
       "      <td>...</td>\n",
       "      <td>1.0</td>\n",
       "      <td>0.0</td>\n",
       "      <td>0.0</td>\n",
       "      <td>1.0</td>\n",
       "      <td>0.0</td>\n",
       "      <td>1.0</td>\n",
       "      <td>0.0</td>\n",
       "      <td>1.0</td>\n",
       "      <td>0.0</td>\n",
       "      <td>0.0</td>\n",
       "    </tr>\n",
       "    <tr>\n",
       "      <th>4</th>\n",
       "      <td>24.0</td>\n",
       "      <td>4870.0</td>\n",
       "      <td>3.0</td>\n",
       "      <td>4.0</td>\n",
       "      <td>53.0</td>\n",
       "      <td>2.0</td>\n",
       "      <td>2.0</td>\n",
       "      <td>0.0</td>\n",
       "      <td>1.0</td>\n",
       "      <td>0.0</td>\n",
       "      <td>...</td>\n",
       "      <td>1.0</td>\n",
       "      <td>0.0</td>\n",
       "      <td>0.0</td>\n",
       "      <td>1.0</td>\n",
       "      <td>0.0</td>\n",
       "      <td>1.0</td>\n",
       "      <td>0.0</td>\n",
       "      <td>1.0</td>\n",
       "      <td>0.0</td>\n",
       "      <td>1.0</td>\n",
       "    </tr>\n",
       "  </tbody>\n",
       "</table>\n",
       "<p>5 rows × 59 columns</p>\n",
       "</div>"
      ],
      "text/plain": [
       "   month  credit_amount  investment_as_income_percentage  residence_since  \\\n",
       "0    6.0         1169.0                              4.0              4.0   \n",
       "1   48.0         5951.0                              2.0              2.0   \n",
       "2   12.0         2096.0                              2.0              3.0   \n",
       "3   42.0         7882.0                              2.0              4.0   \n",
       "4   24.0         4870.0                              3.0              4.0   \n",
       "\n",
       "    age  number_of_credits  people_liable_for  sex  status=A11  status=A12  \\\n",
       "0  67.0                2.0                1.0  0.0         1.0         0.0   \n",
       "1  22.0                1.0                1.0  1.0         0.0         1.0   \n",
       "2  49.0                1.0                2.0  0.0         0.0         0.0   \n",
       "3  45.0                1.0                2.0  0.0         1.0         0.0   \n",
       "4  53.0                2.0                2.0  0.0         1.0         0.0   \n",
       "\n",
       "   ...  housing=A153  skill_level=A171  skill_level=A172  skill_level=A173  \\\n",
       "0  ...           0.0               0.0               0.0               1.0   \n",
       "1  ...           0.0               0.0               0.0               1.0   \n",
       "2  ...           0.0               0.0               1.0               0.0   \n",
       "3  ...           1.0               0.0               0.0               1.0   \n",
       "4  ...           1.0               0.0               0.0               1.0   \n",
       "\n",
       "   skill_level=A174  telephone=A191  telephone=A192  foreign_worker=A201  \\\n",
       "0               0.0             0.0             1.0                  1.0   \n",
       "1               0.0             1.0             0.0                  1.0   \n",
       "2               0.0             1.0             0.0                  1.0   \n",
       "3               0.0             1.0             0.0                  1.0   \n",
       "4               0.0             1.0             0.0                  1.0   \n",
       "\n",
       "   foreign_worker=A202  credit  \n",
       "0                  0.0     0.0  \n",
       "1                  0.0     1.0  \n",
       "2                  0.0     0.0  \n",
       "3                  0.0     0.0  \n",
       "4                  0.0     1.0  \n",
       "\n",
       "[5 rows x 59 columns]"
      ]
     },
     "execution_count": 3,
     "metadata": {},
     "output_type": "execute_result"
    }
   ],
   "source": [
    "df_gd = gd.convert_to_dataframe()[0]\n",
    "df_gd.head()"
   ]
  },
  {
   "cell_type": "code",
   "execution_count": 4,
   "id": "35f561d7",
   "metadata": {},
   "outputs": [
    {
     "data": {
      "text/plain": [
       "(1000, 59)"
      ]
     },
     "execution_count": 4,
     "metadata": {},
     "output_type": "execute_result"
    }
   ],
   "source": [
    "df_gd.shape"
   ]
  },
  {
   "cell_type": "markdown",
   "id": "aafebdf5",
   "metadata": {},
   "source": [
    "### 2. Explanatory data analysis"
   ]
  },
  {
   "cell_type": "markdown",
   "id": "6a3a1384",
   "metadata": {},
   "source": [
    "Unbalanced dataset"
   ]
  },
  {
   "cell_type": "code",
   "execution_count": 5,
   "id": "7265d754",
   "metadata": {},
   "outputs": [
    {
     "data": {
      "image/png": "[encoded data removed]",
      "text/plain": [
       "<Figure size 600x300 with 1 Axes>"
      ]
     },
     "metadata": {},
     "output_type": "display_data"
    }
   ],
   "source": [
    "plt.figure(figsize=[6, 3])\n",
    "plt.hist(df_gd[\"credit\"])\n",
    "plt.title(\"credit\")\n",
    "plt.show()"
   ]
  },
  {
   "cell_type": "code",
   "execution_count": 6,
   "id": "ee3c7ad3",
   "metadata": {},
   "outputs": [
    {
     "data": {
      "text/html": [
       "<div>\n",
       "<style scoped>\n",
       "    .dataframe tbody tr th:only-of-type {\n",
       "        vertical-align: middle;\n",
       "    }\n",
       "\n",
       "    .dataframe tbody tr th {\n",
       "        vertical-align: top;\n",
       "    }\n",
       "\n",
       "    .dataframe thead th {\n",
       "        text-align: right;\n",
       "    }\n",
       "</style>\n",
       "<table border=\"1\" class=\"dataframe\">\n",
       "  <thead>\n",
       "    <tr style=\"text-align: right;\">\n",
       "      <th></th>\n",
       "      <th></th>\n",
       "      <th>count</th>\n",
       "    </tr>\n",
       "    <tr>\n",
       "      <th>age</th>\n",
       "      <th>credit</th>\n",
       "      <th></th>\n",
       "    </tr>\n",
       "  </thead>\n",
       "  <tbody>\n",
       "    <tr>\n",
       "      <th rowspan=\"2\" valign=\"top\">18-25</th>\n",
       "      <th>0.0</th>\n",
       "      <td>110</td>\n",
       "    </tr>\n",
       "    <tr>\n",
       "      <th>1.0</th>\n",
       "      <td>80</td>\n",
       "    </tr>\n",
       "    <tr>\n",
       "      <th rowspan=\"2\" valign=\"top\">26-35</th>\n",
       "      <th>0.0</th>\n",
       "      <td>280</td>\n",
       "    </tr>\n",
       "    <tr>\n",
       "      <th>1.0</th>\n",
       "      <td>118</td>\n",
       "    </tr>\n",
       "    <tr>\n",
       "      <th rowspan=\"2\" valign=\"top\">36-45</th>\n",
       "      <th>0.0</th>\n",
       "      <td>171</td>\n",
       "    </tr>\n",
       "    <tr>\n",
       "      <th>1.0</th>\n",
       "      <td>55</td>\n",
       "    </tr>\n",
       "    <tr>\n",
       "      <th rowspan=\"2\" valign=\"top\">46-55</th>\n",
       "      <th>0.0</th>\n",
       "      <td>87</td>\n",
       "    </tr>\n",
       "    <tr>\n",
       "      <th>1.0</th>\n",
       "      <td>28</td>\n",
       "    </tr>\n",
       "    <tr>\n",
       "      <th rowspan=\"2\" valign=\"top\">56-65</th>\n",
       "      <th>0.0</th>\n",
       "      <td>39</td>\n",
       "    </tr>\n",
       "    <tr>\n",
       "      <th>1.0</th>\n",
       "      <td>14</td>\n",
       "    </tr>\n",
       "    <tr>\n",
       "      <th rowspan=\"2\" valign=\"top\">66-75</th>\n",
       "      <th>0.0</th>\n",
       "      <td>13</td>\n",
       "    </tr>\n",
       "    <tr>\n",
       "      <th>1.0</th>\n",
       "      <td>5</td>\n",
       "    </tr>\n",
       "  </tbody>\n",
       "</table>\n",
       "</div>"
      ],
      "text/plain": [
       "              count\n",
       "age   credit       \n",
       "18-25 0.0       110\n",
       "      1.0        80\n",
       "26-35 0.0       280\n",
       "      1.0       118\n",
       "36-45 0.0       171\n",
       "      1.0        55\n",
       "46-55 0.0        87\n",
       "      1.0        28\n",
       "56-65 0.0        39\n",
       "      1.0        14\n",
       "66-75 0.0        13\n",
       "      1.0         5"
      ]
     },
     "execution_count": 6,
     "metadata": {},
     "output_type": "execute_result"
    }
   ],
   "source": [
    "# create bins and labels\n",
    "bins = [17,25,35,45,55,65,75]\n",
    "labels = [\"%s-%s\" %(bins[idx-1]+1,bins[idx]) for idx in range(1,len(bins))]\n",
    "\n",
    "# bin age colum\n",
    "b = pd.cut(df_gd['age'], bins=bins, labels=labels, include_lowest=False)\n",
    "\n",
    "# groupby age and credit column\n",
    "df_grouped_age = df_gd.groupby(['credit', b]).size().unstack(fill_value=0).stack().reset_index(name='count')\n",
    "df_grouped_age = df_grouped_age.groupby(['age','credit']).sum()\n",
    "df_grouped_age"
   ]
  },
  {
   "cell_type": "code",
   "execution_count": 7,
   "id": "93451c26",
   "metadata": {},
   "outputs": [
    {
     "data": {
      "text/plain": [
       "{'18-25': '42%',\n",
       " '26-35': '30%',\n",
       " '36-45': '24%',\n",
       " '46-55': '24%',\n",
       " '56-65': '26%',\n",
       " '66-75': '28%'}"
      ]
     },
     "execution_count": 7,
     "metadata": {},
     "output_type": "execute_result"
    }
   ],
   "source": [
    "bin_default_dict = {}\n",
    "bin_non_default_dict = {}\n",
    "\n",
    "# iterate through age groups to compute default percentage\n",
    "for label in labels:\n",
    "    \n",
    "    # number of defaulting applicants \n",
    "    n_default = df_grouped_age.loc[(label, 1.0)]['count']\n",
    "    n_non_default = df_grouped_age.loc[(label, 0.0)]['count']\n",
    "    \n",
    "    # append to dictionary\n",
    "    bin_default_dict[\"%s\" %label] = str('{0:.0f}'.format((n_default/(n_default+n_non_default))*100)) + \"%\"\n",
    "    bin_non_default_dict[\"%s\" %label] = str('{0:.0f}'.format((n_non_default/(n_default+n_non_default))*100)) + \"%\"\n",
    "\n",
    "bin_default_dict"
   ]
  },
  {
   "cell_type": "code",
   "execution_count": 8,
   "id": "f06de468",
   "metadata": {},
   "outputs": [
    {
     "data": {
      "image/png": "[encoded data removed]",
      "text/plain": [
       "<Figure size 1500x1000 with 1 Axes>"
      ]
     },
     "metadata": {},
     "output_type": "display_data"
    }
   ],
   "source": [
    "color_dark = \"#0043CE\"\n",
    "color_light = \"#D9D9D9\"\n",
    "\n",
    "# plot\n",
    "fig, ax = plt.subplots(figsize=(15,10))\n",
    "df_grouped_age.unstack().plot(kind='barh', stacked=True, ax=ax, color=[color_dark,color_light], edgecolor='k')\n",
    "\n",
    "# x-axis\n",
    "ax.set_xlabel(\"Frequency\", fontsize=20, fontweight='bold', color=color_dark)\n",
    "ax.tick_params(axis='both', which='major', labelsize=16)\n",
    "ax.set_xlim([0,430])\n",
    "ax.xaxis.set_label_coords(0.5, -0.1)\n",
    "\n",
    "# y-axis\n",
    "ax.set_ylabel(\"Age group\", fontsize=20, fontweight='bold', color=color_dark)\n",
    "ax.yaxis.set_label_coords(-0.1, 0.5)\n",
    "\n",
    "# iterate through labels to annotate text\n",
    "for i in range(0,6):\n",
    "    label = labels[i]\n",
    "    x_coord = df_grouped_age.loc[label]['count'].sum()\n",
    "    y_coord = i\n",
    "    \n",
    "    # annotate text\n",
    "    plt.text(x_coord+17.5, y_coord+0.05, bin_non_default_dict[label], ha=\"center\", va=\"bottom\", color=color_dark, fontsize=18, fontweight=\"bold\")\n",
    "    plt.text(x_coord+17.5, y_coord-0.25, bin_default_dict[label], ha=\"center\", va=\"bottom\", color='#6B6666', fontsize=18, fontweight=\"bold\")\n",
    "\n",
    "# legend\n",
    "ax.legend(['No default','Default'], fontsize=18)\n",
    "    \n",
    "plt.show()"
   ]
  },
  {
   "cell_type": "code",
   "execution_count": 9,
   "id": "f04fd821",
   "metadata": {},
   "outputs": [
    {
     "data": {
      "text/html": [
       "<div>\n",
       "<style scoped>\n",
       "    .dataframe tbody tr th:only-of-type {\n",
       "        vertical-align: middle;\n",
       "    }\n",
       "\n",
       "    .dataframe tbody tr th {\n",
       "        vertical-align: top;\n",
       "    }\n",
       "\n",
       "    .dataframe thead th {\n",
       "        text-align: right;\n",
       "    }\n",
       "</style>\n",
       "<table border=\"1\" class=\"dataframe\">\n",
       "  <thead>\n",
       "    <tr style=\"text-align: right;\">\n",
       "      <th></th>\n",
       "      <th></th>\n",
       "      <th>count</th>\n",
       "    </tr>\n",
       "    <tr>\n",
       "      <th>sex</th>\n",
       "      <th>credit</th>\n",
       "      <th></th>\n",
       "    </tr>\n",
       "  </thead>\n",
       "  <tbody>\n",
       "    <tr>\n",
       "      <th rowspan=\"2\" valign=\"top\">0.0</th>\n",
       "      <th>0.0</th>\n",
       "      <td>499</td>\n",
       "    </tr>\n",
       "    <tr>\n",
       "      <th>1.0</th>\n",
       "      <td>191</td>\n",
       "    </tr>\n",
       "    <tr>\n",
       "      <th rowspan=\"2\" valign=\"top\">1.0</th>\n",
       "      <th>0.0</th>\n",
       "      <td>201</td>\n",
       "    </tr>\n",
       "    <tr>\n",
       "      <th>1.0</th>\n",
       "      <td>109</td>\n",
       "    </tr>\n",
       "  </tbody>\n",
       "</table>\n",
       "</div>"
      ],
      "text/plain": [
       "            count\n",
       "sex credit       \n",
       "0.0 0.0       499\n",
       "    1.0       191\n",
       "1.0 0.0       201\n",
       "    1.0       109"
      ]
     },
     "execution_count": 9,
     "metadata": {},
     "output_type": "execute_result"
    }
   ],
   "source": [
    "# create bins and labels\n",
    "bins = [0,1]\n",
    "labels = [0.0]\n",
    "\n",
    "# bin sex colum\n",
    "b = pd.cut(df_gd['sex'], bins=bins, labels=labels, include_lowest=False)\n",
    "\n",
    "# groupby sex and credit column\n",
    "df_grouped_sex = df_gd.groupby(['credit', 'sex']).size().unstack(fill_value=0).stack().reset_index(name='count')\n",
    "df_grouped_sex = df_grouped_sex.groupby(['sex','credit']).sum()\n",
    "df_grouped_sex"
   ]
  },
  {
   "cell_type": "code",
   "execution_count": 10,
   "id": "96315101",
   "metadata": {},
   "outputs": [
    {
     "data": {
      "text/plain": [
       "{'0.0': '28%', '1.0': '35%'}"
      ]
     },
     "execution_count": 10,
     "metadata": {},
     "output_type": "execute_result"
    }
   ],
   "source": [
    "bin_default_sex_dict = {}\n",
    "bin_non_default_sex_dict = {}\n",
    "\n",
    "labels = [0.0,1.0]\n",
    "\n",
    "# iterate through age groups to compute default percentage\n",
    "for label in labels:\n",
    "    \n",
    "    # number of defaulting applicants \n",
    "    n_default = df_grouped_sex.loc[(label, 1.0)]['count']\n",
    "    n_non_default = df_grouped_sex.loc[(label, 0.0)]['count']\n",
    "    \n",
    "    # append to dictionary\n",
    "    bin_default_sex_dict[\"%s\" %label] = str('{0:.0f}'.format((n_default/(n_default+n_non_default))*100)) + \"%\"\n",
    "    bin_non_default_sex_dict[\"%s\" %label] = str('{0:.0f}'.format((n_non_default/(n_default+n_non_default))*100)) + \"%\"\n",
    "\n",
    "bin_default_sex_dict"
   ]
  },
  {
   "cell_type": "code",
   "execution_count": 11,
   "id": "19024728",
   "metadata": {},
   "outputs": [
    {
     "data": {
      "text/plain": [
       "{'0.0': '72%', '1.0': '65%'}"
      ]
     },
     "execution_count": 11,
     "metadata": {},
     "output_type": "execute_result"
    }
   ],
   "source": [
    "bin_non_default_sex_dict"
   ]
  },
  {
   "cell_type": "code",
   "execution_count": 12,
   "id": "29577d81",
   "metadata": {},
   "outputs": [
    {
     "data": {
      "image/png": "[encoded data removed]",
      "text/plain": [
       "<Figure size 1500x1000 with 1 Axes>"
      ]
     },
     "metadata": {},
     "output_type": "display_data"
    }
   ],
   "source": [
    "# plot\n",
    "fig, ax = plt.subplots(figsize=(15,10))\n",
    "df_grouped_sex.unstack().plot(kind='barh', stacked=True, ax=ax, color=[color_dark,color_light], edgecolor='k')\n",
    "\n",
    "# x-axis\n",
    "ax.set_xlabel(\"Frequency\", fontsize=20, fontweight='bold', color=color_dark)\n",
    "ax.tick_params(axis='both', which='major', labelsize=16)\n",
    "ax.xaxis.set_label_coords(0.5, -0.1)\n",
    "ax.set_xlim([0,790])\n",
    "\n",
    "# y-axis\n",
    "ax.set_ylabel(\"Sex\", fontsize=20, fontweight='bold', color=color_dark)\n",
    "ax.set_yticklabels(['male','female'])\n",
    "ax.yaxis.set_label_coords(-0.1, 0.5)\n",
    "\n",
    "# iterate through labels to annotate text\n",
    "for i in range(0,2):\n",
    "    label = labels[i]\n",
    "    x_coord = df_grouped_sex.loc[label]['count'].sum()\n",
    "    y_coord = i\n",
    "    \n",
    "    # annotate text\n",
    "    plt.text(x_coord+35, y_coord+0.1, bin_non_default_sex_dict[\"%s\" %label], ha=\"center\", va=\"bottom\", color=color_dark, fontsize=18, fontweight=\"bold\")\n",
    "    plt.text(x_coord+35, y_coord-0.15, bin_default_sex_dict[\"%s\" %label], ha=\"center\", va=\"bottom\", color='#6B6666', fontsize=18, fontweight=\"bold\")\n",
    "\n",
    "# legend\n",
    "ax.legend(['No default','Default'], fontsize=18)\n",
    "    \n",
    "plt.show()"
   ]
  },
  {
   "cell_type": "markdown",
   "id": "c399ef43",
   "metadata": {},
   "source": [
    "### 3. Split features, labels, train, validate and test set"
   ]
  },
  {
   "cell_type": "code",
   "execution_count": 13,
   "id": "74b7a58a",
   "metadata": {},
   "outputs": [],
   "source": [
    "X = df_gd.drop('credit', 1)\n",
    "y = df_gd['credit']\n",
    "\n",
    "# Splitting X and y into train and test version\n",
    "X_train, X_test, y_train, y_test = train_test_split(X, y, test_size = 0.3, random_state=10)"
   ]
  },
  {
   "cell_type": "markdown",
   "id": "4f9c82ce",
   "metadata": {},
   "source": [
    "### 4. Train XGBoost"
   ]
  },
  {
   "cell_type": "markdown",
   "id": "ac3cddb6",
   "metadata": {},
   "source": [
    "Initialize model and specify model parameters"
   ]
  },
  {
   "cell_type": "code",
   "execution_count": 14,
   "id": "25373f98",
   "metadata": {},
   "outputs": [
    {
     "data": {
      "text/plain": [
       "XGBClassifier(base_score=0.5, booster='gbtree', callbacks=None,\n",
       "              colsample_bylevel=1, colsample_bynode=1, colsample_bytree=1,\n",
       "              early_stopping_rounds=None, enable_categorical=False,\n",
       "              eval_metric=None, feature_types=None, gamma=0, gpu_id=None,\n",
       "              grow_policy=None, importance_type=None,\n",
       "              interaction_constraints=None, learning_rate=0.1, max_bin=None,\n",
       "              max_cat_threshold=None, max_cat_to_onehot=None, max_delta_step=0,\n",
       "              max_depth=3, max_leaves=None, min_child_weight=1, missing=None,\n",
       "              monotone_constraints=None, n_estimators=100, n_jobs=1,\n",
       "              nthread=None, num_parallel_tree=None, objective='multi:softprob', ...)"
      ]
     },
     "execution_count": 14,
     "metadata": {},
     "output_type": "execute_result"
    }
   ],
   "source": [
    "xgbc = XGBClassifier()\n",
    "XGBClassifier(base_score=0.5, booster='gbtree', colsample_bylevel=1,\n",
    "       colsample_bynode=1, colsample_bytree=1, gamma=0, learning_rate=0.1,\n",
    "       max_delta_step=0, max_depth=3, min_child_weight=1, missing=None,\n",
    "       n_estimators=100, n_jobs=1, nthread=None,\n",
    "       objective='multi:softprob', random_state=0, reg_alpha=0,\n",
    "       reg_lambda=1, scale_pos_weight=1, seed=None, silent=None,\n",
    "       subsample=1, verbosity=1) "
   ]
  },
  {
   "cell_type": "code",
   "execution_count": 15,
   "id": "0a92f90c",
   "metadata": {},
   "outputs": [
    {
     "data": {
      "text/plain": [
       "XGBClassifier(base_score=0.5, booster='gbtree', callbacks=None,\n",
       "              colsample_bylevel=1, colsample_bynode=1, colsample_bytree=1,\n",
       "              early_stopping_rounds=None, enable_categorical=False,\n",
       "              eval_metric=None, feature_types=None, gamma=0, gpu_id=-1,\n",
       "              grow_policy='depthwise', importance_type=None,\n",
       "              interaction_constraints='', learning_rate=0.300000012,\n",
       "              max_bin=256, max_cat_threshold=64, max_cat_to_onehot=4,\n",
       "              max_delta_step=0, max_depth=6, max_leaves=0, min_child_weight=1,\n",
       "              missing=nan, monotone_constraints='()', n_estimators=100,\n",
       "              n_jobs=0, num_parallel_tree=1, predictor='auto', random_state=0, ...)"
      ]
     },
     "execution_count": 15,
     "metadata": {},
     "output_type": "execute_result"
    }
   ],
   "source": [
    "xgbc.fit(X_train, y_train)"
   ]
  },
  {
   "cell_type": "markdown",
   "id": "9c735f87",
   "metadata": {},
   "source": [
    "### 5. Make predictions\n",
    "Predict"
   ]
  },
  {
   "cell_type": "code",
   "execution_count": 16,
   "id": "bf8619bc",
   "metadata": {},
   "outputs": [],
   "source": [
    "y_hat = xgbc.predict(X_test)"
   ]
  },
  {
   "cell_type": "markdown",
   "id": "cb14169b",
   "metadata": {},
   "source": [
    "Merging predictions to dataframe"
   ]
  },
  {
   "cell_type": "code",
   "execution_count": 17,
   "id": "131a8ba0",
   "metadata": {},
   "outputs": [
    {
     "data": {
      "text/html": [
       "<div>\n",
       "<style scoped>\n",
       "    .dataframe tbody tr th:only-of-type {\n",
       "        vertical-align: middle;\n",
       "    }\n",
       "\n",
       "    .dataframe tbody tr th {\n",
       "        vertical-align: top;\n",
       "    }\n",
       "\n",
       "    .dataframe thead th {\n",
       "        text-align: right;\n",
       "    }\n",
       "</style>\n",
       "<table border=\"1\" class=\"dataframe\">\n",
       "  <thead>\n",
       "    <tr style=\"text-align: right;\">\n",
       "      <th></th>\n",
       "      <th>month</th>\n",
       "      <th>credit_amount</th>\n",
       "      <th>investment_as_income_percentage</th>\n",
       "      <th>residence_since</th>\n",
       "      <th>age</th>\n",
       "      <th>number_of_credits</th>\n",
       "      <th>people_liable_for</th>\n",
       "      <th>sex</th>\n",
       "      <th>status=A11</th>\n",
       "      <th>status=A12</th>\n",
       "      <th>...</th>\n",
       "      <th>skill_level=A172</th>\n",
       "      <th>skill_level=A173</th>\n",
       "      <th>skill_level=A174</th>\n",
       "      <th>telephone=A191</th>\n",
       "      <th>telephone=A192</th>\n",
       "      <th>foreign_worker=A201</th>\n",
       "      <th>foreign_worker=A202</th>\n",
       "      <th>predicted_class</th>\n",
       "      <th>true_class</th>\n",
       "      <th>errors</th>\n",
       "    </tr>\n",
       "  </thead>\n",
       "  <tbody>\n",
       "    <tr>\n",
       "      <th>841</th>\n",
       "      <td>21.0</td>\n",
       "      <td>2993.0</td>\n",
       "      <td>3.0</td>\n",
       "      <td>2.0</td>\n",
       "      <td>28.0</td>\n",
       "      <td>2.0</td>\n",
       "      <td>1.0</td>\n",
       "      <td>0.0</td>\n",
       "      <td>0.0</td>\n",
       "      <td>0.0</td>\n",
       "      <td>...</td>\n",
       "      <td>1.0</td>\n",
       "      <td>0.0</td>\n",
       "      <td>0.0</td>\n",
       "      <td>1.0</td>\n",
       "      <td>0.0</td>\n",
       "      <td>1.0</td>\n",
       "      <td>0.0</td>\n",
       "      <td>0</td>\n",
       "      <td>0.0</td>\n",
       "      <td>0.0</td>\n",
       "    </tr>\n",
       "    <tr>\n",
       "      <th>956</th>\n",
       "      <td>30.0</td>\n",
       "      <td>3656.0</td>\n",
       "      <td>4.0</td>\n",
       "      <td>4.0</td>\n",
       "      <td>49.0</td>\n",
       "      <td>2.0</td>\n",
       "      <td>1.0</td>\n",
       "      <td>0.0</td>\n",
       "      <td>0.0</td>\n",
       "      <td>0.0</td>\n",
       "      <td>...</td>\n",
       "      <td>1.0</td>\n",
       "      <td>0.0</td>\n",
       "      <td>0.0</td>\n",
       "      <td>1.0</td>\n",
       "      <td>0.0</td>\n",
       "      <td>1.0</td>\n",
       "      <td>0.0</td>\n",
       "      <td>0</td>\n",
       "      <td>0.0</td>\n",
       "      <td>0.0</td>\n",
       "    </tr>\n",
       "    <tr>\n",
       "      <th>544</th>\n",
       "      <td>12.0</td>\n",
       "      <td>1255.0</td>\n",
       "      <td>4.0</td>\n",
       "      <td>4.0</td>\n",
       "      <td>61.0</td>\n",
       "      <td>2.0</td>\n",
       "      <td>1.0</td>\n",
       "      <td>0.0</td>\n",
       "      <td>0.0</td>\n",
       "      <td>0.0</td>\n",
       "      <td>...</td>\n",
       "      <td>1.0</td>\n",
       "      <td>0.0</td>\n",
       "      <td>0.0</td>\n",
       "      <td>1.0</td>\n",
       "      <td>0.0</td>\n",
       "      <td>1.0</td>\n",
       "      <td>0.0</td>\n",
       "      <td>0</td>\n",
       "      <td>0.0</td>\n",
       "      <td>0.0</td>\n",
       "    </tr>\n",
       "    <tr>\n",
       "      <th>173</th>\n",
       "      <td>8.0</td>\n",
       "      <td>1414.0</td>\n",
       "      <td>4.0</td>\n",
       "      <td>2.0</td>\n",
       "      <td>33.0</td>\n",
       "      <td>1.0</td>\n",
       "      <td>1.0</td>\n",
       "      <td>0.0</td>\n",
       "      <td>0.0</td>\n",
       "      <td>1.0</td>\n",
       "      <td>...</td>\n",
       "      <td>0.0</td>\n",
       "      <td>1.0</td>\n",
       "      <td>0.0</td>\n",
       "      <td>1.0</td>\n",
       "      <td>0.0</td>\n",
       "      <td>0.0</td>\n",
       "      <td>1.0</td>\n",
       "      <td>0</td>\n",
       "      <td>0.0</td>\n",
       "      <td>0.0</td>\n",
       "    </tr>\n",
       "    <tr>\n",
       "      <th>759</th>\n",
       "      <td>12.0</td>\n",
       "      <td>691.0</td>\n",
       "      <td>4.0</td>\n",
       "      <td>3.0</td>\n",
       "      <td>35.0</td>\n",
       "      <td>2.0</td>\n",
       "      <td>1.0</td>\n",
       "      <td>0.0</td>\n",
       "      <td>1.0</td>\n",
       "      <td>0.0</td>\n",
       "      <td>...</td>\n",
       "      <td>0.0</td>\n",
       "      <td>1.0</td>\n",
       "      <td>0.0</td>\n",
       "      <td>1.0</td>\n",
       "      <td>0.0</td>\n",
       "      <td>1.0</td>\n",
       "      <td>0.0</td>\n",
       "      <td>0</td>\n",
       "      <td>1.0</td>\n",
       "      <td>1.0</td>\n",
       "    </tr>\n",
       "  </tbody>\n",
       "</table>\n",
       "<p>5 rows × 61 columns</p>\n",
       "</div>"
      ],
      "text/plain": [
       "     month  credit_amount  investment_as_income_percentage  residence_since  \\\n",
       "841   21.0         2993.0                              3.0              2.0   \n",
       "956   30.0         3656.0                              4.0              4.0   \n",
       "544   12.0         1255.0                              4.0              4.0   \n",
       "173    8.0         1414.0                              4.0              2.0   \n",
       "759   12.0          691.0                              4.0              3.0   \n",
       "\n",
       "      age  number_of_credits  people_liable_for  sex  status=A11  status=A12  \\\n",
       "841  28.0                2.0                1.0  0.0         0.0         0.0   \n",
       "956  49.0                2.0                1.0  0.0         0.0         0.0   \n",
       "544  61.0                2.0                1.0  0.0         0.0         0.0   \n",
       "173  33.0                1.0                1.0  0.0         0.0         1.0   \n",
       "759  35.0                2.0                1.0  0.0         1.0         0.0   \n",
       "\n",
       "     ...  skill_level=A172  skill_level=A173  skill_level=A174  \\\n",
       "841  ...               1.0               0.0               0.0   \n",
       "956  ...               1.0               0.0               0.0   \n",
       "544  ...               1.0               0.0               0.0   \n",
       "173  ...               0.0               1.0               0.0   \n",
       "759  ...               0.0               1.0               0.0   \n",
       "\n",
       "     telephone=A191  telephone=A192  foreign_worker=A201  foreign_worker=A202  \\\n",
       "841             1.0             0.0                  1.0                  0.0   \n",
       "956             1.0             0.0                  1.0                  0.0   \n",
       "544             1.0             0.0                  1.0                  0.0   \n",
       "173             1.0             0.0                  0.0                  1.0   \n",
       "759             1.0             0.0                  1.0                  0.0   \n",
       "\n",
       "     predicted_class  true_class  errors  \n",
       "841                0         0.0     0.0  \n",
       "956                0         0.0     0.0  \n",
       "544                0         0.0     0.0  \n",
       "173                0         0.0     0.0  \n",
       "759                0         1.0     1.0  \n",
       "\n",
       "[5 rows x 61 columns]"
      ]
     },
     "execution_count": 17,
     "metadata": {},
     "output_type": "execute_result"
    }
   ],
   "source": [
    "# Converting y_hat from np to df\n",
    "predictions_col = pd.DataFrame(index=X_test.index)\n",
    "predictions_col['predicted_class'] = y_hat.tolist()\n",
    "predictions_col['true_class'] = y_test.tolist()\n",
    "\n",
    "# Calculating the errors with the absolute value \n",
    "predictions_col['errors'] = abs(predictions_col['predicted_class'] - predictions_col['true_class'])\n",
    "\n",
    "# Adding predictions to test data\n",
    "entire_dataset = pd.merge(X_test, predictions_col, left_index = True, right_index = True)\n",
    "entire_dataset.head()"
   ]
  },
  {
   "cell_type": "markdown",
   "id": "9b3e578c",
   "metadata": {},
   "source": [
    "#### Confusion matrix"
   ]
  },
  {
   "cell_type": "code",
   "execution_count": 18,
   "id": "121c7203",
   "metadata": {},
   "outputs": [
    {
     "name": "stdout",
     "output_type": "stream",
     "text": [
      "Acc:  0.7333333333333333\n"
     ]
    },
    {
     "data": {
      "image/png": "[encoded data removed]",
      "text/plain": [
       "<Figure size 640x480 with 2 Axes>"
      ]
     },
     "metadata": {},
     "output_type": "display_data"
    }
   ],
   "source": [
    "predictions = entire_dataset[\"predicted_class\"]\n",
    "true = entire_dataset[\"true_class\"]\n",
    "\n",
    "cm = confusion_matrix(true, predictions, labels=[1, 0], normalize='pred')\n",
    "cmap0 = mpl.colors.LinearSegmentedColormap.from_list(\n",
    "        'unevently divided', ['#618EC7','#fffde4'])\n",
    "\n",
    "disp = ConfusionMatrixDisplay(confusion_matrix=cm, display_labels=['True', 'False'])\n",
    "disp.plot(cmap=cmap0)\n",
    "\n",
    "print('Acc: ', accuracy_score(predictions,true))"
   ]
  },
  {
   "cell_type": "markdown",
   "id": "8fb41b51",
   "metadata": {},
   "source": [
    "### 6. Export data"
   ]
  },
  {
   "cell_type": "code",
   "execution_count": 19,
   "id": "ba6ddd5e",
   "metadata": {},
   "outputs": [],
   "source": [
    "entire_dataset.to_csv('./pred_XGBoost.csv', index=False)"
   ]
  }
 ],
 "metadata": {
  "kernelspec": {
   "display_name": "Python 3 (ipykernel)",
   "language": "python",
   "name": "python3"
  },
  "language_info": {
   "codemirror_mode": {
    "name": "ipython",
    "version": 3
   },
   "file_extension": ".py",
   "mimetype": "text/x-python",
   "name": "python",
   "nbconvert_exporter": "python",
   "pygments_lexer": "ipython3",
   "version": "3.9.13"
  }
 },
 "nbformat": 4,
 "nbformat_minor": 5
}
