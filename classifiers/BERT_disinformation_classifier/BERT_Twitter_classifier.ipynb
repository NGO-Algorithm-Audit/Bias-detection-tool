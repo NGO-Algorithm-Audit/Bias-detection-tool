{
 "cells": [
  {
   "cell_type": "markdown",
   "id": "d5aab57d",
   "metadata": {
    "id": "d5aab57d"
   },
   "source": [
    "## BERT Twitter disinformation classifier\n",
    "In this notebook a disinformation classifier for tweets is trained using a pre-trained BERT natural language processing model."
   ]
  },
  {
   "cell_type": "markdown",
   "id": "463b4319",
   "metadata": {
    "id": "463b4319"
   },
   "source": [
    "### Overview of notebook: \n",
    "1. Loading data\n",
    "2. Explanatory data analysis\n",
    "3. Data preparations\n",
    "4. Tokenization\n",
    "5. Fine-tune pre-trained BERT model and model predictions\n",
    "6. Model perfomance on test data set\n",
    "7. Export model predictions\n",
    "\n",
    "To build this classifier an online tutorial was consulted: https://towardsdatascience.com/fine-tuning-bert-for-text-classification-54e7df642894."
   ]
  },
  {
   "cell_type": "markdown",
   "id": "d52ff961",
   "metadata": {
    "id": "d52ff961"
   },
   "source": [
    "### Load libraries"
   ]
  },
  {
   "cell_type": "code",
   "execution_count": null,
   "id": "c714bf0b",
   "metadata": {
    "executionInfo": {
     "elapsed": 15324,
     "status": "ok",
     "timestamp": 1671893711649,
     "user": {
      "displayName": "Algorithm Audit",
      "userId": "13329523064766324535"
     },
     "user_tz": -60
    },
    "id": "c714bf0b"
   },
   "outputs": [],
   "source": [
    "import nltk\n",
    "import torch\n",
    "import gensim\n",
    "import numpy as np\n",
    "import pandas as pd\n",
    "\n",
    "# BERT transformers\n",
    "from transformers import BertTokenizer\n",
    "from transformers import BertForSequenceClassification\n",
    "\n",
    "# matplotlib\n",
    "import matplotlib as mpl\n",
    "import matplotlib.pyplot as plt\n",
    "\n",
    "# nltk\n",
    "from nltk import word_tokenize\n",
    "from nltk.corpus import stopwords\n",
    "\n",
    "# notebook/markdown\n",
    "from IPython.display import display, clear_output\n",
    "\n",
    "# sklearn\n",
    "from sklearn.utils import shuffle\n",
    "from sklearn.metrics import accuracy_score\n",
    "from sklearn.metrics import confusion_matrix, ConfusionMatrixDisplay\n",
    "\n",
    "# Tensorflow/Keras tokenizer\n",
    "from keras.preprocessing.text import Tokenizer\n",
    "from tensorflow.keras.preprocessing.text import Tokenizer\n",
    "\n",
    "# torch\n",
    "from torch.utils.data import Dataset\n",
    "from torch.utils.data import DataLoader\n",
    "from torch.nn.utils.rnn import pad_sequence\n",
    "\n",
    "# tqdm\n",
    "from tqdm.notebook import tqdm"
   ]
  },
  {
   "cell_type": "markdown",
   "id": "95f5aeb5",
   "metadata": {
    "id": "95f5aeb5"
   },
   "source": [
    "### 1. Loading data"
   ]
  },
  {
   "cell_type": "code",
   "execution_count": null,
   "id": "79587909",
   "metadata": {
    "colab": {
     "base_uri": "https://localhost:8080/",
     "height": 204
    },
    "executionInfo": {
     "elapsed": 25,
     "status": "ok",
     "timestamp": 1671893711650,
     "user": {
      "displayName": "Algorithm Audit",
      "userId": "13329523064766324535"
     },
     "user_tz": -60
    },
    "id": "79587909",
    "outputId": "1a51d48e-07f4-4c82-ef10-8f63458946bc"
   },
   "outputs": [],
   "source": [
    "path = '../../data/Twitter_dataset/twitter1516_final.csv' \n",
    "df = pd.read_csv(path)\n",
    "df.head()"
   ]
  },
  {
   "cell_type": "markdown",
   "id": "685756b1",
   "metadata": {
    "id": "685756b1"
   },
   "source": [
    "### 2. Explanatory data analysis \n",
    "#### Lengths of tweets"
   ]
  },
  {
   "cell_type": "code",
   "execution_count": null,
   "id": "93e2804a",
   "metadata": {
    "colab": {
     "base_uri": "https://localhost:8080/"
    },
    "executionInfo": {
     "elapsed": 17,
     "status": "ok",
     "timestamp": 1671893711651,
     "user": {
      "displayName": "Algorithm Audit",
      "userId": "13329523064766324535"
     },
     "user_tz": -60
    },
    "id": "93e2804a",
    "outputId": "373deee2-047a-42fa-f91d-d25fb6bca147"
   },
   "outputs": [],
   "source": [
    "tweet_ls = [tweet for tweet in df.tweet]\n",
    "\n",
    "max_len = 0\n",
    "tweet_len = []\n",
    "for tweet in tweet_ls:\n",
    "    tweet_len.append(len(tweet))\n",
    "\n",
    "print('Number of tweets:', len(tweet_ls))\n",
    "print('Max length of tweet:', max(tweet_len))\n",
    "print('Mean length of tweets:', np.mean(tweet_len))"
   ]
  },
  {
   "cell_type": "markdown",
   "id": "449ad926",
   "metadata": {
    "id": "449ad926"
   },
   "source": [
    "### 3. Data preperations\n",
    "#### Selection and randomization"
   ]
  },
  {
   "cell_type": "code",
   "execution_count": null,
   "id": "f413242c",
   "metadata": {
    "colab": {
     "base_uri": "https://localhost:8080/",
     "height": 204
    },
    "executionInfo": {
     "elapsed": 222,
     "status": "ok",
     "timestamp": 1671893719188,
     "user": {
      "displayName": "Algorithm Audit",
      "userId": "13329523064766324535"
     },
     "user_tz": -60
    },
    "id": "f413242c",
    "outputId": "48f4b278-3695-4d7f-b642-f6e3708d5c91"
   },
   "outputs": [],
   "source": [
    "# select source tweets and prediction labels\n",
    "df = df[['tweet','label']]\n",
    "\n",
    "# randomize data frame\n",
    "df = shuffle(df).reset_index(drop=True)\n",
    "df.head()"
   ]
  },
  {
   "cell_type": "markdown",
   "id": "e38dc44e",
   "metadata": {
    "id": "e38dc44e"
   },
   "source": [
    "#### Split data intro train, validation and test set"
   ]
  },
  {
   "cell_type": "code",
   "execution_count": null,
   "id": "7d3bbd91",
   "metadata": {
    "colab": {
     "base_uri": "https://localhost:8080/"
    },
    "executionInfo": {
     "elapsed": 273,
     "status": "ok",
     "timestamp": 1671893721061,
     "user": {
      "displayName": "Algorithm Audit",
      "userId": "13329523064766324535"
     },
     "user_tz": -60
    },
    "id": "7d3bbd91",
    "outputId": "e10fa829-7238-45e1-d213-826a4a7966bb"
   },
   "outputs": [],
   "source": [
    "# test set\n",
    "train_val_df = df.sample(frac = 0.6)\n",
    "test_df = df.drop(train_val_df.index)\n",
    "\n",
    "# train and validation set\n",
    "train_df = train_val_df.sample(frac = 0.8)\n",
    "val_df = train_val_df.drop(train_df.index)\n",
    "\n",
    "# reset index\n",
    "train_df = train_df.reset_index(drop=True)\n",
    "val_df = val_df.reset_index(drop=True)\n",
    "test_df = test_df.reset_index(drop=True)\n",
    "\n",
    "print('shape trainset:', train_df.shape)\n",
    "print('shape valset:', val_df.shape)\n",
    "print('shape testset:', test_df.shape)"
   ]
  },
  {
   "cell_type": "markdown",
   "id": "efbfc400",
   "metadata": {
    "id": "efbfc400"
   },
   "source": [
    "#### Export train, validation and test set to .tsv format"
   ]
  },
  {
   "cell_type": "code",
   "execution_count": null,
   "id": "d6f7e550",
   "metadata": {
    "executionInfo": {
     "elapsed": 337,
     "status": "ok",
     "timestamp": 1671893722704,
     "user": {
      "displayName": "Algorithm Audit",
      "userId": "13329523064766324535"
     },
     "user_tz": -60
    },
    "id": "d6f7e550"
   },
   "outputs": [],
   "source": [
    "train_df.to_csv('./train.tsv', sep='\\t', index=False)\n",
    "val_df.to_csv('./val.tsv', sep='\\t', index=False)\n",
    "test_df.to_csv('./test.tsv', sep='\\t', index=False)"
   ]
  },
  {
   "cell_type": "markdown",
   "id": "0620dbde",
   "metadata": {
    "id": "0620dbde"
   },
   "source": [
    "#### Concatenate data"
   ]
  },
  {
   "cell_type": "code",
   "execution_count": null,
   "id": "0c201a03",
   "metadata": {
    "executionInfo": {
     "elapsed": 320,
     "status": "ok",
     "timestamp": 1671893724075,
     "user": {
      "displayName": "Algorithm Audit",
      "userId": "13329523064766324535"
     },
     "user_tz": -60
    },
    "id": "0c201a03"
   },
   "outputs": [],
   "source": [
    "df = pd.concat([train_df, val_df, test_df])"
   ]
  },
  {
   "cell_type": "markdown",
   "id": "edc5ee28",
   "metadata": {
    "id": "edc5ee28"
   },
   "source": [
    "#### Data Cleaning: Removing stopwords from all source tweets (train, validation and test set)"
   ]
  },
  {
   "cell_type": "code",
   "execution_count": null,
   "id": "49fa0e98",
   "metadata": {
    "colab": {
     "base_uri": "https://localhost:8080/"
    },
    "executionInfo": {
     "elapsed": 359,
     "status": "ok",
     "timestamp": 1671893726015,
     "user": {
      "displayName": "Algorithm Audit",
      "userId": "13329523064766324535"
     },
     "user_tz": -60
    },
    "id": "49fa0e98",
    "outputId": "6539b288-1bc1-496c-8fd7-c78b765f5852",
    "scrolled": true
   },
   "outputs": [],
   "source": [
    "# dowload stopwords from nltk library\n",
    "nltk.download(\"stopwords\")"
   ]
  },
  {
   "cell_type": "code",
   "execution_count": null,
   "id": "0d06ba42",
   "metadata": {
    "executionInfo": {
     "elapsed": 2,
     "status": "ok",
     "timestamp": 1671893726284,
     "user": {
      "displayName": "Algorithm Audit",
      "userId": "13329523064766324535"
     },
     "user_tz": -60
    },
    "id": "0d06ba42"
   },
   "outputs": [],
   "source": [
    "# remove stopwords and words with ≤2 characters\n",
    "def preprocess(text):\n",
    "    result = []\n",
    "    for token in gensim.utils.simple_preprocess(text):\n",
    "        if token not in gensim.parsing.preprocessing.STOPWORDS and len(token) > 3 and token not in stop_words:\n",
    "            result.append(token)\n",
    "            \n",
    "    return result"
   ]
  },
  {
   "cell_type": "code",
   "execution_count": null,
   "id": "96b05b66",
   "metadata": {
    "executionInfo": {
     "elapsed": 2,
     "status": "ok",
     "timestamp": 1671893726595,
     "user": {
      "displayName": "Algorithm Audit",
      "userId": "13329523064766324535"
     },
     "user_tz": -60
    },
    "id": "96b05b66"
   },
   "outputs": [],
   "source": [
    "# load stopwords from nltk\n",
    "stop_words = stopwords.words('english')\n",
    "\n",
    "# cleaning source tweets\n",
    "df['cleaned'] = df['tweet'].apply(preprocess)"
   ]
  },
  {
   "cell_type": "markdown",
   "id": "b80b5d6e",
   "metadata": {
    "id": "b80b5d6e"
   },
   "source": [
    "### Words in dataset after cleaning"
   ]
  },
  {
   "cell_type": "code",
   "execution_count": null,
   "id": "e8391342",
   "metadata": {
    "colab": {
     "base_uri": "https://localhost:8080/"
    },
    "executionInfo": {
     "elapsed": 214,
     "status": "ok",
     "timestamp": 1671893728820,
     "user": {
      "displayName": "Algorithm Audit",
      "userId": "13329523064766324535"
     },
     "user_tz": -60
    },
    "id": "e8391342",
    "outputId": "c3803b54-10d4-411e-dff3-d26e812bc9c8"
   },
   "outputs": [],
   "source": [
    "words_ls = []\n",
    "for i in df.cleaned:\n",
    "    for j in i:\n",
    "        words_ls.append(j)\n",
    "\n",
    "words = len(list(set(words_ls)))\n",
    "words"
   ]
  },
  {
   "cell_type": "markdown",
   "id": "07ee7b95",
   "metadata": {
    "id": "07ee7b95"
   },
   "source": [
    "### 4. Tokenization\n",
    "#### Tokenize source tweets using Tensorflow's one-hot tokenization function"
   ]
  },
  {
   "cell_type": "code",
   "execution_count": null,
   "id": "8b14fb3a",
   "metadata": {
    "executionInfo": {
     "elapsed": 2,
     "status": "ok",
     "timestamp": 1671893730095,
     "user": {
      "displayName": "Algorithm Audit",
      "userId": "13329523064766324535"
     },
     "user_tz": -60
    },
    "id": "8b14fb3a"
   },
   "outputs": [],
   "source": [
    "# tokenize source tweets \n",
    "tokenizer = Tokenizer(num_words = words)\n",
    "tokenizer.fit_on_texts(train_df['tweet'])"
   ]
  },
  {
   "cell_type": "code",
   "execution_count": null,
   "id": "8a0fa0e1",
   "metadata": {
    "executionInfo": {
     "elapsed": 1,
     "status": "ok",
     "timestamp": 1671893730702,
     "user": {
      "displayName": "Algorithm Audit",
      "userId": "13329523064766324535"
     },
     "user_tz": -60
    },
    "id": "8a0fa0e1"
   },
   "outputs": [],
   "source": [
    "# Create sequence of tokenized words for train, validation and test set \n",
    "train_sequences = tokenizer.texts_to_sequences(train_df['tweet'])\n",
    "val_sequences = tokenizer.texts_to_sequences(val_df['tweet'])\n",
    "test_sequences = tokenizer.texts_to_sequences(test_df['tweet'])"
   ]
  },
  {
   "cell_type": "markdown",
   "id": "2c70c87c",
   "metadata": {
    "id": "2c70c87c"
   },
   "source": [
    "### 5. Fine-tune pre-trained BERT model\n",
    "#### Load pre-trained BERT model"
   ]
  },
  {
   "cell_type": "code",
   "execution_count": null,
   "id": "7fbc5285",
   "metadata": {
    "executionInfo": {
     "elapsed": 208,
     "status": "ok",
     "timestamp": 1671893731959,
     "user": {
      "displayName": "Algorithm Audit",
      "userId": "13329523064766324535"
     },
     "user_tz": -60
    },
    "id": "7fbc5285"
   },
   "outputs": [],
   "source": [
    "# NOTE: if you receive a warning about widgets and receive an error like: \"AttributeError: 'FloatProgress' object has no attribute 'style'\",\n",
    "#       then close out of jupyter notebooks and in the cmd line run: jupyter-nbextension enable --py widgetsnbextension \n",
    "#       then run jupyter notebooks again and this notebook\n",
    "PRETRAINED_MODEL_NAME = 'bert-base-uncased'\n",
    "tokenizer = BertTokenizer.from_pretrained(PRETRAINED_MODEL_NAME)"
   ]
  },
  {
   "cell_type": "markdown",
   "id": "9a7481fe",
   "metadata": {
    "id": "9a7481fe"
   },
   "source": [
    "#### Create class for datasets"
   ]
  },
  {
   "cell_type": "code",
   "execution_count": null,
   "id": "79040569",
   "metadata": {
    "executionInfo": {
     "elapsed": 6,
     "status": "ok",
     "timestamp": 1671893733198,
     "user": {
      "displayName": "Algorithm Audit",
      "userId": "13329523064766324535"
     },
     "user_tz": -60
    },
    "id": "79040569"
   },
   "outputs": [],
   "source": [
    "class TwitterDataset(Dataset):\n",
    "    def __init__(self, mode, tokenizer):\n",
    "        assert mode in ['train', 'val', 'test']\n",
    "        self.mode = mode\n",
    "        self.df = pd.read_csv('./' + mode + '.tsv', sep='\\t').fillna(\"\")\n",
    "        self.len = len(self.df)\n",
    "        self.tokenizer = tokenizer  # BERT tokenizer\n",
    "    \n",
    "    def __getitem__(self, idx):\n",
    "        if self.mode == 'test':\n",
    "            statement, label = self.df.iloc[idx, :].values\n",
    "            label_tensor = torch.tensor(label)\n",
    "        else:\n",
    "            statement, label = self.df.iloc[idx, :].values\n",
    "            label_tensor = torch.tensor(label)\n",
    "            \n",
    "        word_pieces = ['[CLS]']\n",
    "        statement = self.tokenizer.tokenize(statement)\n",
    "        word_pieces += statement + ['[SEP]']\n",
    "        len_st = len(word_pieces)\n",
    "        \n",
    "        ids = self.tokenizer.convert_tokens_to_ids(word_pieces)\n",
    "        tokens_tensor = torch.tensor(ids)\n",
    "        \n",
    "        segments_tensor = torch.tensor([0] * len_st, dtype=torch.long)\n",
    "        \n",
    "        return (tokens_tensor, segments_tensor, label_tensor)\n",
    "    \n",
    "    def __len__(self):\n",
    "        return self.len"
   ]
  },
  {
   "cell_type": "markdown",
   "id": "f987fff7",
   "metadata": {
    "id": "f987fff7"
   },
   "source": [
    "#### Initialize train, validation and test data set for transformation"
   ]
  },
  {
   "cell_type": "code",
   "execution_count": null,
   "id": "65c132be",
   "metadata": {
    "colab": {
     "base_uri": "https://localhost:8080/"
    },
    "executionInfo": {
     "elapsed": 2,
     "status": "ok",
     "timestamp": 1671893734569,
     "user": {
      "displayName": "Algorithm Audit",
      "userId": "13329523064766324535"
     },
     "user_tz": -60
    },
    "id": "65c132be",
    "outputId": "17776cba-b94d-45fe-f945-7cb50e816ba9"
   },
   "outputs": [],
   "source": [
    "# Initialize Datasets for Transformation\n",
    "trainset = TwitterDataset('train', tokenizer=tokenizer)\n",
    "valset = TwitterDataset('val', tokenizer=tokenizer)\n",
    "testset = TwitterDataset('test', tokenizer=tokenizer)\n",
    "\n",
    "print('trainset size:' ,trainset.__len__())\n",
    "print('valset size:',valset.__len__())\n",
    "print('testset size: ',testset.__len__())"
   ]
  },
  {
   "cell_type": "markdown",
   "id": "8a3fba89",
   "metadata": {
    "id": "8a3fba89"
   },
   "source": [
    "#### Initialize sampling and observing tensors"
   ]
  },
  {
   "cell_type": "code",
   "execution_count": null,
   "id": "b9810d79",
   "metadata": {
    "colab": {
     "base_uri": "https://localhost:8080/"
    },
    "executionInfo": {
     "elapsed": 357,
     "status": "ok",
     "timestamp": 1671893735296,
     "user": {
      "displayName": "Algorithm Audit",
      "userId": "13329523064766324535"
     },
     "user_tz": -60
    },
    "id": "b9810d79",
    "outputId": "65677f3c-de5b-4665-b46d-c105d91020f9",
    "scrolled": false
   },
   "outputs": [],
   "source": [
    "sample_idx = 0\n",
    "\n",
    "statement, label = trainset.df.iloc[sample_idx].values\n",
    "\n",
    "tokens_tensor, segments_tensor, label_tensor = trainset[sample_idx]\n",
    "\n",
    "tokens = tokenizer.convert_ids_to_tokens(tokens_tensor.tolist())\n",
    "combined_text = \" \".join(tokens)\n",
    "\n",
    "print(f\"\"\"\n",
    "original_statement: \n",
    "{statement}\n",
    "\n",
    "tokens: \n",
    "{tokens}\n",
    "\n",
    "label: {label}\n",
    "\n",
    "--------------------\n",
    "\n",
    "tokens_tensor: \n",
    "{tokens_tensor}\n",
    "\n",
    "segments_tensor: \n",
    "{segments_tensor}\n",
    "\n",
    "label_tensor: \n",
    "{label_tensor}\n",
    "\n",
    "\"\"\")"
   ]
  },
  {
   "cell_type": "markdown",
   "id": "5637177b",
   "metadata": {
    "id": "5637177b"
   },
   "source": [
    "#### Transforming dataset"
   ]
  },
  {
   "cell_type": "code",
   "execution_count": null,
   "id": "7e860280",
   "metadata": {
    "executionInfo": {
     "elapsed": 522,
     "status": "ok",
     "timestamp": 1671893761834,
     "user": {
      "displayName": "Algorithm Audit",
      "userId": "13329523064766324535"
     },
     "user_tz": -60
    },
    "id": "7e860280"
   },
   "outputs": [],
   "source": [
    "def create_mini_batch(samples):\n",
    "    tokens_tensors = [s[0] for s in samples]\n",
    "    segments_tensors = [s[1] for s in samples]\n",
    "    \n",
    "    # labels\n",
    "    if samples[0][2] is not None:\n",
    "        label_ids = torch.stack([s[2] for s in samples])\n",
    "    else:\n",
    "        label_ids = None\n",
    "    \n",
    "    # zero padding\n",
    "    tokens_tensors = pad_sequence(tokens_tensors, batch_first=True)\n",
    "    segments_tensors = pad_sequence(segments_tensors, batch_first=True)\n",
    "    \n",
    "    masks_tensors = torch.zeros(tokens_tensors.shape, dtype=torch.long)\n",
    "    masks_tensors = masks_tensors.masked_fill(tokens_tensors != 0, 1)\n",
    "    \n",
    "    return tokens_tensors, segments_tensors, masks_tensors, label_ids\n",
    "\n",
    "BATCH_SIZE = 16\n",
    "trainloader = DataLoader(trainset, batch_size=BATCH_SIZE, collate_fn=create_mini_batch)\n",
    "valloader = DataLoader(valset, batch_size=BATCH_SIZE, collate_fn=create_mini_batch)\n",
    "testloader = DataLoader(testset, batch_size=BATCH_SIZE,collate_fn=create_mini_batch)"
   ]
  },
  {
   "cell_type": "code",
   "execution_count": null,
   "id": "889dbdc5",
   "metadata": {
    "colab": {
     "base_uri": "https://localhost:8080/"
    },
    "executionInfo": {
     "elapsed": 328,
     "status": "ok",
     "timestamp": 1671893766472,
     "user": {
      "displayName": "Algorithm Audit",
      "userId": "13329523064766324535"
     },
     "user_tz": -60
    },
    "id": "889dbdc5",
    "outputId": "4b752a36-d1f2-48ec-fbf1-f42395db9555"
   },
   "outputs": [],
   "source": [
    "data = next(iter(trainloader))\n",
    "\n",
    "tokens_tensors, segments_tensors, masks_tensors, label_ids = data\n",
    "\n",
    "print(f\"\"\"\n",
    "tokens_tensors.shape   = {tokens_tensors.shape} \n",
    "{tokens_tensors}\n",
    "------------------------\n",
    "segments_tensors.shape = {segments_tensors.shape}\n",
    "{segments_tensors}\n",
    "------------------------\n",
    "masks_tensors.shape    = {masks_tensors.shape}\n",
    "{masks_tensors}\n",
    "------------------------\n",
    "label_ids.shape        = {label_ids.shape}\n",
    "{label_ids}\n",
    "\"\"\")"
   ]
  },
  {
   "cell_type": "markdown",
   "id": "65dab218",
   "metadata": {
    "id": "65dab218"
   },
   "source": [
    "#### Model Construction"
   ]
  },
  {
   "cell_type": "code",
   "execution_count": null,
   "id": "17531b98",
   "metadata": {
    "colab": {
     "base_uri": "https://localhost:8080/"
    },
    "executionInfo": {
     "elapsed": 5904,
     "status": "ok",
     "timestamp": 1671893777896,
     "user": {
      "displayName": "Algorithm Audit",
      "userId": "13329523064766324535"
     },
     "user_tz": -60
    },
    "id": "17531b98",
    "outputId": "6523c638-018a-4b04-e624-be32cb525b8e"
   },
   "outputs": [],
   "source": [
    "PRETRAINED_MODEL_NAME = \"bert-base-uncased\"\n",
    "NUM_LABELS = 2\n",
    "\n",
    "model = BertForSequenceClassification.from_pretrained(\n",
    "    PRETRAINED_MODEL_NAME, num_labels=NUM_LABELS)\n",
    "\n",
    "clear_output()\n",
    "\n",
    "print(\"\"\"\n",
    "name             module\n",
    "-----------------------\"\"\")\n",
    "for name, module in model.named_children():\n",
    "    if name == \"bert\":\n",
    "        for n, _ in module.named_children():\n",
    "            print(f\"{name}:{n}\")\n",
    "    else:\n",
    "        print(\"{:16} {}\".format(name, module))"
   ]
  },
  {
   "cell_type": "code",
   "execution_count": null,
   "id": "216d6438",
   "metadata": {
    "colab": {
     "base_uri": "https://localhost:8080/"
    },
    "executionInfo": {
     "elapsed": 189,
     "status": "ok",
     "timestamp": 1671893780567,
     "user": {
      "displayName": "Algorithm Audit",
      "userId": "13329523064766324535"
     },
     "user_tz": -60
    },
    "id": "216d6438",
    "outputId": "43b16703-15f0-44c7-89a5-a0df4e152e2b"
   },
   "outputs": [],
   "source": [
    "model.config"
   ]
  },
  {
   "cell_type": "markdown",
   "id": "22aa1fa1",
   "metadata": {
    "id": "22aa1fa1"
   },
   "source": [
    "#### Fine-tuning BERT and make predictions "
   ]
  },
  {
   "cell_type": "code",
   "execution_count": null,
   "id": "ffb78039",
   "metadata": {
    "colab": {
     "base_uri": "https://localhost:8080/",
     "height": 130,
     "referenced_widgets": [
      "8af7c2467a4d4116bb36235b0b7bb9d3",
      "c1c814565ef841d48b947ee551bd64a5",
      "85c73707f0364327997ce492ca0f3f14",
      "97974388367f445a8e0af85f5743acba",
      "5fc043cd831046b9bdf59d1e2773e8d0",
      "b412ce1faa8f4c9d8841e28f6f338532",
      "43d15822026e4bcc9dcdd78f42105854",
      "4154095f5d1f4bd586560ee32dd7dff2",
      "8371b11de3a647e4a7babc0cd70bd805",
      "4c5a486f89784d188ca1881b50ef5a31",
      "eaeabb305b5a4ffbaa4bfaeec82a6a0e",
      "0d76829db8db47a9a28194a0a6206f81",
      "c327eca259854b449be99389fcf570e1",
      "d7bf5202f91f426587c357df36ab3ca0",
      "e37c356b34314cf99a8c3f436279f93e",
      "2576f303b1804d67886b36e84e4527de",
      "ca591008b8e8483b8e67c978bfc747c3",
      "11560c94b9c3415782ff3fd953fde91a",
      "69838d44e85540a68c6afc44d028123b",
      "0a7814950f5d4ede8e38a3e9d3e66c6c",
      "35886fd932a741aeaaeb1f614a94dd3a",
      "8f7aa81de0d647ab96f2f68657c3f955",
      "edc89bf35d414ffba000e88e27a0d849",
      "1a8b2c72baaf4df69ee7d6ee638834f2",
      "f5dff7396d07421c9b63b2f52957185d",
      "2bf0892c2eef41219c3f6fcba85dccbd",
      "8f75ad7ad52f4877814fc463c6271423",
      "582f939c9d26436591d56b35e784bcfb",
      "90578949f7414b8ba9018d62828f90c6",
      "920d8d57d37c472abe1479ffe73b0660",
      "592af7cfc1854d7e831e2478194203b0",
      "fd8263a03c5a4558a9a4532e3de59930",
      "021da7ad7a564004aecaa8d7e968e82d"
     ]
    },
    "executionInfo": {
     "elapsed": 693433,
     "status": "ok",
     "timestamp": 1671894475579,
     "user": {
      "displayName": "Algorithm Audit",
      "userId": "13329523064766324535"
     },
     "user_tz": -60
    },
    "id": "ffb78039",
    "outputId": "e81832af-4752-4e71-9866-b9dfb63ffa4a"
   },
   "outputs": [],
   "source": [
    "device = torch.device(\"cuda:0\" if torch.cuda.is_available() else \"cpu\")\n",
    "print(\"device:\", device)\n",
    "model = model.to(device)\n",
    "\n",
    "model.train()\n",
    "optimizer = torch.optim.Adam(model.parameters(), lr=1e-5)\n",
    "NUM_EPOCHS = 3\n",
    "\n",
    "for epoch in range(NUM_EPOCHS):\n",
    "    train_loss = 0.0\n",
    "    train_acc = 0.0\n",
    "\n",
    "    loop = tqdm(trainloader)\n",
    "    for batch_idx, data in enumerate(loop):\n",
    "        tokens_tensors, segments_tensors, masks_tensors, labels = [t.to(device) for t in data]\n",
    "\n",
    "        optimizer.zero_grad()\n",
    "        \n",
    "        outputs = model(input_ids=tokens_tensors, \n",
    "                        token_type_ids=segments_tensors, \n",
    "                        attention_mask=masks_tensors, \n",
    "                        labels=labels)\n",
    "\n",
    "        loss = outputs[0]\n",
    "        loss.backward()\n",
    "        optimizer.step()\n",
    "\n",
    "        logits = outputs[1]\n",
    "        _, pred = torch.max(logits.data, 1)\n",
    "        train_acc = accuracy_score(pred.cpu().tolist() , labels.cpu().tolist())\n",
    "\n",
    "        train_loss += loss.item()\n",
    "\n",
    "        loop.set_description(f\"Epoch [{epoch+1}/{NUM_EPOCHS}]\")\n",
    "        loop.set_postfix(acc = train_acc, loss = train_loss)"
   ]
  },
  {
   "cell_type": "code",
   "execution_count": null,
   "id": "5c086c23",
   "metadata": {
    "colab": {
     "base_uri": "https://localhost:8080/"
    },
    "executionInfo": {
     "elapsed": 3473,
     "status": "ok",
     "timestamp": 1671894953148,
     "user": {
      "displayName": "Algorithm Audit",
      "userId": "13329523064766324535"
     },
     "user_tz": -60
    },
    "id": "5c086c23",
    "outputId": "efe4ead8-eda9-4a39-8c93-3c7d58595690"
   },
   "outputs": [],
   "source": [
    "torch.save(model, './best_model.pth')\n",
    "print('Model saved!')"
   ]
  },
  {
   "cell_type": "markdown",
   "id": "6286440f",
   "metadata": {
    "id": "6286440f"
   },
   "source": [
    "### 6. Model performance on test data set"
   ]
  },
  {
   "cell_type": "code",
   "execution_count": null,
   "id": "594ff3cb",
   "metadata": {
    "colab": {
     "base_uri": "https://localhost:8080/",
     "height": 296
    },
    "executionInfo": {
     "elapsed": 55971,
     "status": "ok",
     "timestamp": 1671895012753,
     "user": {
      "displayName": "Algorithm Audit",
      "userId": "13329523064766324535"
     },
     "user_tz": -60
    },
    "id": "594ff3cb",
    "outputId": "10d1b600-086d-4733-d5d1-0ee95d73ebcc"
   },
   "outputs": [],
   "source": [
    "true=[]\n",
    "predictions=[]\n",
    "with torch.no_grad():\n",
    "    model.eval()\n",
    "    for data in testloader:\n",
    "        if next(model.parameters()).is_cuda:\n",
    "            data = [t.to(device) for t in data if t is not None]\n",
    "            \n",
    "        tokens_tensors, segments_tensors, masks_tensors = data[:3]\n",
    "        test_outputs = model(input_ids=tokens_tensors, \n",
    "                    token_type_ids=segments_tensors, \n",
    "                    attention_mask=masks_tensors)\n",
    "\n",
    "        logits = test_outputs[0]\n",
    "        _, pred = torch.max(logits.data, 1)\n",
    "\n",
    "        labels = data[3]\n",
    "        true.extend(labels.cpu().tolist())\n",
    "        predictions.extend(pred.cpu().tolist())\n",
    "\n",
    "\n",
    "cm = confusion_matrix(true, predictions, labels=[1, 0], normalize='pred')\n",
    "\n",
    "cmap0 = mpl.colors.LinearSegmentedColormap.from_list(\n",
    "        'unevently divided', ['#618EC7','#fffde4'])\n",
    "\n",
    "disp = ConfusionMatrixDisplay(confusion_matrix=cm, display_labels=['True', 'False'])\n",
    "disp.plot(cmap=cmap0)\n",
    "\n",
    "print('Acc: ', accuracy_score(predictions,true))"
   ]
  },
  {
   "cell_type": "markdown",
   "id": "12ae2d45",
   "metadata": {
    "id": "12ae2d45"
   },
   "source": [
    "#### Dataframe with ground truth and predicted labels"
   ]
  },
  {
   "cell_type": "code",
   "execution_count": null,
   "id": "6a40c200",
   "metadata": {
    "colab": {
     "base_uri": "https://localhost:8080/",
     "height": 204
    },
    "executionInfo": {
     "elapsed": 209,
     "status": "ok",
     "timestamp": 1671895023988,
     "user": {
      "displayName": "Algorithm Audit",
      "userId": "13329523064766324535"
     },
     "user_tz": -60
    },
    "id": "6a40c200",
    "outputId": "b3f5b73c-5e8d-4ea9-96aa-d82b80abe2cb"
   },
   "outputs": [],
   "source": [
    "df = pd.DataFrame({\"pred_label\": predictions})\n",
    "df_true = pd.DataFrame({\"label\": true})\n",
    "\n",
    "df_pred = pd.concat([test_df.loc[:, ['tweet']], \n",
    "                     df_true.loc[:, ['label']], \n",
    "                     df.loc[:, 'pred_label']], axis=1)\n",
    "df_pred.head()"
   ]
  },
  {
   "cell_type": "markdown",
   "id": "8a178d4f",
   "metadata": {
    "id": "8a178d4f"
   },
   "source": [
    "### 7. Export model predictions"
   ]
  },
  {
   "cell_type": "code",
   "execution_count": null,
   "id": "2b718161",
   "metadata": {
    "executionInfo": {
     "elapsed": 205,
     "status": "ok",
     "timestamp": 1671895027180,
     "user": {
      "displayName": "Algorithm Audit",
      "userId": "13329523064766324535"
     },
     "user_tz": -60
    },
    "id": "2b718161"
   },
   "outputs": [],
   "source": [
    "df_pred.to_csv('./pred_BERT.csv', index=False)"
   ]
  }
 ],
 "metadata": {
  "colab": {
   "provenance": []
  },
  "kernelspec": {
   "display_name": "Python 3 (ipykernel)",
   "language": "python",
   "name": "python3"
  },
  "language_info": {
   "codemirror_mode": {
    "name": "ipython",
    "version": 3
   },
   "file_extension": ".py",
   "mimetype": "text/x-python",
   "name": "python",
   "nbconvert_exporter": "python",
   "pygments_lexer": "ipython3",
   "version": "3.10.12"
  },
  "widgets": {
   "application/vnd.jupyter.widget-state+json": {
    "021da7ad7a564004aecaa8d7e968e82d": {
     "model_module": "@jupyter-widgets/controls",
     "model_module_version": "1.5.0",
     "model_name": "DescriptionStyleModel",
     "state": {
      "_model_module": "@jupyter-widgets/controls",
      "_model_module_version": "1.5.0",
      "_model_name": "DescriptionStyleModel",
      "_view_count": null,
      "_view_module": "@jupyter-widgets/base",
      "_view_module_version": "1.2.0",
      "_view_name": "StyleView",
      "description_width": ""
     }
    },
    "0a7814950f5d4ede8e38a3e9d3e66c6c": {
     "model_module": "@jupyter-widgets/controls",
     "model_module_version": "1.5.0",
     "model_name": "ProgressStyleModel",
     "state": {
      "_model_module": "@jupyter-widgets/controls",
      "_model_module_version": "1.5.0",
      "_model_name": "ProgressStyleModel",
      "_view_count": null,
      "_view_module": "@jupyter-widgets/base",
      "_view_module_version": "1.2.0",
      "_view_name": "StyleView",
      "bar_color": null,
      "description_width": ""
     }
    },
    "0d76829db8db47a9a28194a0a6206f81": {
     "model_module": "@jupyter-widgets/controls",
     "model_module_version": "1.5.0",
     "model_name": "HBoxModel",
     "state": {
      "_dom_classes": [],
      "_model_module": "@jupyter-widgets/controls",
      "_model_module_version": "1.5.0",
      "_model_name": "HBoxModel",
      "_view_count": null,
      "_view_module": "@jupyter-widgets/controls",
      "_view_module_version": "1.5.0",
      "_view_name": "HBoxView",
      "box_style": "",
      "children": [
       "IPY_MODEL_c327eca259854b449be99389fcf570e1",
       "IPY_MODEL_d7bf5202f91f426587c357df36ab3ca0",
       "IPY_MODEL_e37c356b34314cf99a8c3f436279f93e"
      ],
      "layout": "IPY_MODEL_2576f303b1804d67886b36e84e4527de"
     }
    },
    "11560c94b9c3415782ff3fd953fde91a": {
     "model_module": "@jupyter-widgets/controls",
     "model_module_version": "1.5.0",
     "model_name": "DescriptionStyleModel",
     "state": {
      "_model_module": "@jupyter-widgets/controls",
      "_model_module_version": "1.5.0",
      "_model_name": "DescriptionStyleModel",
      "_view_count": null,
      "_view_module": "@jupyter-widgets/base",
      "_view_module_version": "1.2.0",
      "_view_name": "StyleView",
      "description_width": ""
     }
    },
    "1a8b2c72baaf4df69ee7d6ee638834f2": {
     "model_module": "@jupyter-widgets/controls",
     "model_module_version": "1.5.0",
     "model_name": "HTMLModel",
     "state": {
      "_dom_classes": [],
      "_model_module": "@jupyter-widgets/controls",
      "_model_module_version": "1.5.0",
      "_model_name": "HTMLModel",
      "_view_count": null,
      "_view_module": "@jupyter-widgets/controls",
      "_view_module_version": "1.5.0",
      "_view_name": "HTMLView",
      "description": "",
      "description_tooltip": null,
      "layout": "IPY_MODEL_582f939c9d26436591d56b35e784bcfb",
      "placeholder": "​",
      "style": "IPY_MODEL_90578949f7414b8ba9018d62828f90c6",
      "value": "Epoch [3/3]: 100%"
     }
    },
    "2576f303b1804d67886b36e84e4527de": {
     "model_module": "@jupyter-widgets/base",
     "model_module_version": "1.2.0",
     "model_name": "LayoutModel",
     "state": {
      "_model_module": "@jupyter-widgets/base",
      "_model_module_version": "1.2.0",
      "_model_name": "LayoutModel",
      "_view_count": null,
      "_view_module": "@jupyter-widgets/base",
      "_view_module_version": "1.2.0",
      "_view_name": "LayoutView",
      "align_content": null,
      "align_items": null,
      "align_self": null,
      "border": null,
      "bottom": null,
      "display": null,
      "flex": null,
      "flex_flow": null,
      "grid_area": null,
      "grid_auto_columns": null,
      "grid_auto_flow": null,
      "grid_auto_rows": null,
      "grid_column": null,
      "grid_gap": null,
      "grid_row": null,
      "grid_template_areas": null,
      "grid_template_columns": null,
      "grid_template_rows": null,
      "height": null,
      "justify_content": null,
      "justify_items": null,
      "left": null,
      "margin": null,
      "max_height": null,
      "max_width": null,
      "min_height": null,
      "min_width": null,
      "object_fit": null,
      "object_position": null,
      "order": null,
      "overflow": null,
      "overflow_x": null,
      "overflow_y": null,
      "padding": null,
      "right": null,
      "top": null,
      "visibility": null,
      "width": null
     }
    },
    "2bf0892c2eef41219c3f6fcba85dccbd": {
     "model_module": "@jupyter-widgets/controls",
     "model_module_version": "1.5.0",
     "model_name": "HTMLModel",
     "state": {
      "_dom_classes": [],
      "_model_module": "@jupyter-widgets/controls",
      "_model_module_version": "1.5.0",
      "_model_name": "HTMLModel",
      "_view_count": null,
      "_view_module": "@jupyter-widgets/controls",
      "_view_module_version": "1.5.0",
      "_view_name": "HTMLView",
      "description": "",
      "description_tooltip": null,
      "layout": "IPY_MODEL_fd8263a03c5a4558a9a4532e3de59930",
      "placeholder": "​",
      "style": "IPY_MODEL_021da7ad7a564004aecaa8d7e968e82d",
      "value": " 32/32 [03:49&lt;00:00,  6.29s/it, acc=1, loss=12.7]"
     }
    },
    "35886fd932a741aeaaeb1f614a94dd3a": {
     "model_module": "@jupyter-widgets/base",
     "model_module_version": "1.2.0",
     "model_name": "LayoutModel",
     "state": {
      "_model_module": "@jupyter-widgets/base",
      "_model_module_version": "1.2.0",
      "_model_name": "LayoutModel",
      "_view_count": null,
      "_view_module": "@jupyter-widgets/base",
      "_view_module_version": "1.2.0",
      "_view_name": "LayoutView",
      "align_content": null,
      "align_items": null,
      "align_self": null,
      "border": null,
      "bottom": null,
      "display": null,
      "flex": null,
      "flex_flow": null,
      "grid_area": null,
      "grid_auto_columns": null,
      "grid_auto_flow": null,
      "grid_auto_rows": null,
      "grid_column": null,
      "grid_gap": null,
      "grid_row": null,
      "grid_template_areas": null,
      "grid_template_columns": null,
      "grid_template_rows": null,
      "height": null,
      "justify_content": null,
      "justify_items": null,
      "left": null,
      "margin": null,
      "max_height": null,
      "max_width": null,
      "min_height": null,
      "min_width": null,
      "object_fit": null,
      "object_position": null,
      "order": null,
      "overflow": null,
      "overflow_x": null,
      "overflow_y": null,
      "padding": null,
      "right": null,
      "top": null,
      "visibility": null,
      "width": null
     }
    },
    "4154095f5d1f4bd586560ee32dd7dff2": {
     "model_module": "@jupyter-widgets/base",
     "model_module_version": "1.2.0",
     "model_name": "LayoutModel",
     "state": {
      "_model_module": "@jupyter-widgets/base",
      "_model_module_version": "1.2.0",
      "_model_name": "LayoutModel",
      "_view_count": null,
      "_view_module": "@jupyter-widgets/base",
      "_view_module_version": "1.2.0",
      "_view_name": "LayoutView",
      "align_content": null,
      "align_items": null,
      "align_self": null,
      "border": null,
      "bottom": null,
      "display": null,
      "flex": null,
      "flex_flow": null,
      "grid_area": null,
      "grid_auto_columns": null,
      "grid_auto_flow": null,
      "grid_auto_rows": null,
      "grid_column": null,
      "grid_gap": null,
      "grid_row": null,
      "grid_template_areas": null,
      "grid_template_columns": null,
      "grid_template_rows": null,
      "height": null,
      "justify_content": null,
      "justify_items": null,
      "left": null,
      "margin": null,
      "max_height": null,
      "max_width": null,
      "min_height": null,
      "min_width": null,
      "object_fit": null,
      "object_position": null,
      "order": null,
      "overflow": null,
      "overflow_x": null,
      "overflow_y": null,
      "padding": null,
      "right": null,
      "top": null,
      "visibility": null,
      "width": null
     }
    },
    "43d15822026e4bcc9dcdd78f42105854": {
     "model_module": "@jupyter-widgets/controls",
     "model_module_version": "1.5.0",
     "model_name": "DescriptionStyleModel",
     "state": {
      "_model_module": "@jupyter-widgets/controls",
      "_model_module_version": "1.5.0",
      "_model_name": "DescriptionStyleModel",
      "_view_count": null,
      "_view_module": "@jupyter-widgets/base",
      "_view_module_version": "1.2.0",
      "_view_name": "StyleView",
      "description_width": ""
     }
    },
    "4c5a486f89784d188ca1881b50ef5a31": {
     "model_module": "@jupyter-widgets/base",
     "model_module_version": "1.2.0",
     "model_name": "LayoutModel",
     "state": {
      "_model_module": "@jupyter-widgets/base",
      "_model_module_version": "1.2.0",
      "_model_name": "LayoutModel",
      "_view_count": null,
      "_view_module": "@jupyter-widgets/base",
      "_view_module_version": "1.2.0",
      "_view_name": "LayoutView",
      "align_content": null,
      "align_items": null,
      "align_self": null,
      "border": null,
      "bottom": null,
      "display": null,
      "flex": null,
      "flex_flow": null,
      "grid_area": null,
      "grid_auto_columns": null,
      "grid_auto_flow": null,
      "grid_auto_rows": null,
      "grid_column": null,
      "grid_gap": null,
      "grid_row": null,
      "grid_template_areas": null,
      "grid_template_columns": null,
      "grid_template_rows": null,
      "height": null,
      "justify_content": null,
      "justify_items": null,
      "left": null,
      "margin": null,
      "max_height": null,
      "max_width": null,
      "min_height": null,
      "min_width": null,
      "object_fit": null,
      "object_position": null,
      "order": null,
      "overflow": null,
      "overflow_x": null,
      "overflow_y": null,
      "padding": null,
      "right": null,
      "top": null,
      "visibility": null,
      "width": null
     }
    },
    "582f939c9d26436591d56b35e784bcfb": {
     "model_module": "@jupyter-widgets/base",
     "model_module_version": "1.2.0",
     "model_name": "LayoutModel",
     "state": {
      "_model_module": "@jupyter-widgets/base",
      "_model_module_version": "1.2.0",
      "_model_name": "LayoutModel",
      "_view_count": null,
      "_view_module": "@jupyter-widgets/base",
      "_view_module_version": "1.2.0",
      "_view_name": "LayoutView",
      "align_content": null,
      "align_items": null,
      "align_self": null,
      "border": null,
      "bottom": null,
      "display": null,
      "flex": null,
      "flex_flow": null,
      "grid_area": null,
      "grid_auto_columns": null,
      "grid_auto_flow": null,
      "grid_auto_rows": null,
      "grid_column": null,
      "grid_gap": null,
      "grid_row": null,
      "grid_template_areas": null,
      "grid_template_columns": null,
      "grid_template_rows": null,
      "height": null,
      "justify_content": null,
      "justify_items": null,
      "left": null,
      "margin": null,
      "max_height": null,
      "max_width": null,
      "min_height": null,
      "min_width": null,
      "object_fit": null,
      "object_position": null,
      "order": null,
      "overflow": null,
      "overflow_x": null,
      "overflow_y": null,
      "padding": null,
      "right": null,
      "top": null,
      "visibility": null,
      "width": null
     }
    },
    "592af7cfc1854d7e831e2478194203b0": {
     "model_module": "@jupyter-widgets/controls",
     "model_module_version": "1.5.0",
     "model_name": "ProgressStyleModel",
     "state": {
      "_model_module": "@jupyter-widgets/controls",
      "_model_module_version": "1.5.0",
      "_model_name": "ProgressStyleModel",
      "_view_count": null,
      "_view_module": "@jupyter-widgets/base",
      "_view_module_version": "1.2.0",
      "_view_name": "StyleView",
      "bar_color": null,
      "description_width": ""
     }
    },
    "5fc043cd831046b9bdf59d1e2773e8d0": {
     "model_module": "@jupyter-widgets/base",
     "model_module_version": "1.2.0",
     "model_name": "LayoutModel",
     "state": {
      "_model_module": "@jupyter-widgets/base",
      "_model_module_version": "1.2.0",
      "_model_name": "LayoutModel",
      "_view_count": null,
      "_view_module": "@jupyter-widgets/base",
      "_view_module_version": "1.2.0",
      "_view_name": "LayoutView",
      "align_content": null,
      "align_items": null,
      "align_self": null,
      "border": null,
      "bottom": null,
      "display": null,
      "flex": null,
      "flex_flow": null,
      "grid_area": null,
      "grid_auto_columns": null,
      "grid_auto_flow": null,
      "grid_auto_rows": null,
      "grid_column": null,
      "grid_gap": null,
      "grid_row": null,
      "grid_template_areas": null,
      "grid_template_columns": null,
      "grid_template_rows": null,
      "height": null,
      "justify_content": null,
      "justify_items": null,
      "left": null,
      "margin": null,
      "max_height": null,
      "max_width": null,
      "min_height": null,
      "min_width": null,
      "object_fit": null,
      "object_position": null,
      "order": null,
      "overflow": null,
      "overflow_x": null,
      "overflow_y": null,
      "padding": null,
      "right": null,
      "top": null,
      "visibility": null,
      "width": null
     }
    },
    "69838d44e85540a68c6afc44d028123b": {
     "model_module": "@jupyter-widgets/base",
     "model_module_version": "1.2.0",
     "model_name": "LayoutModel",
     "state": {
      "_model_module": "@jupyter-widgets/base",
      "_model_module_version": "1.2.0",
      "_model_name": "LayoutModel",
      "_view_count": null,
      "_view_module": "@jupyter-widgets/base",
      "_view_module_version": "1.2.0",
      "_view_name": "LayoutView",
      "align_content": null,
      "align_items": null,
      "align_self": null,
      "border": null,
      "bottom": null,
      "display": null,
      "flex": null,
      "flex_flow": null,
      "grid_area": null,
      "grid_auto_columns": null,
      "grid_auto_flow": null,
      "grid_auto_rows": null,
      "grid_column": null,
      "grid_gap": null,
      "grid_row": null,
      "grid_template_areas": null,
      "grid_template_columns": null,
      "grid_template_rows": null,
      "height": null,
      "justify_content": null,
      "justify_items": null,
      "left": null,
      "margin": null,
      "max_height": null,
      "max_width": null,
      "min_height": null,
      "min_width": null,
      "object_fit": null,
      "object_position": null,
      "order": null,
      "overflow": null,
      "overflow_x": null,
      "overflow_y": null,
      "padding": null,
      "right": null,
      "top": null,
      "visibility": null,
      "width": null
     }
    },
    "8371b11de3a647e4a7babc0cd70bd805": {
     "model_module": "@jupyter-widgets/controls",
     "model_module_version": "1.5.0",
     "model_name": "ProgressStyleModel",
     "state": {
      "_model_module": "@jupyter-widgets/controls",
      "_model_module_version": "1.5.0",
      "_model_name": "ProgressStyleModel",
      "_view_count": null,
      "_view_module": "@jupyter-widgets/base",
      "_view_module_version": "1.2.0",
      "_view_name": "StyleView",
      "bar_color": null,
      "description_width": ""
     }
    },
    "85c73707f0364327997ce492ca0f3f14": {
     "model_module": "@jupyter-widgets/controls",
     "model_module_version": "1.5.0",
     "model_name": "FloatProgressModel",
     "state": {
      "_dom_classes": [],
      "_model_module": "@jupyter-widgets/controls",
      "_model_module_version": "1.5.0",
      "_model_name": "FloatProgressModel",
      "_view_count": null,
      "_view_module": "@jupyter-widgets/controls",
      "_view_module_version": "1.5.0",
      "_view_name": "ProgressView",
      "bar_style": "success",
      "description": "",
      "description_tooltip": null,
      "layout": "IPY_MODEL_4154095f5d1f4bd586560ee32dd7dff2",
      "max": 32,
      "min": 0,
      "orientation": "horizontal",
      "style": "IPY_MODEL_8371b11de3a647e4a7babc0cd70bd805",
      "value": 32
     }
    },
    "8af7c2467a4d4116bb36235b0b7bb9d3": {
     "model_module": "@jupyter-widgets/controls",
     "model_module_version": "1.5.0",
     "model_name": "HBoxModel",
     "state": {
      "_dom_classes": [],
      "_model_module": "@jupyter-widgets/controls",
      "_model_module_version": "1.5.0",
      "_model_name": "HBoxModel",
      "_view_count": null,
      "_view_module": "@jupyter-widgets/controls",
      "_view_module_version": "1.5.0",
      "_view_name": "HBoxView",
      "box_style": "",
      "children": [
       "IPY_MODEL_c1c814565ef841d48b947ee551bd64a5",
       "IPY_MODEL_85c73707f0364327997ce492ca0f3f14",
       "IPY_MODEL_97974388367f445a8e0af85f5743acba"
      ],
      "layout": "IPY_MODEL_5fc043cd831046b9bdf59d1e2773e8d0"
     }
    },
    "8f75ad7ad52f4877814fc463c6271423": {
     "model_module": "@jupyter-widgets/base",
     "model_module_version": "1.2.0",
     "model_name": "LayoutModel",
     "state": {
      "_model_module": "@jupyter-widgets/base",
      "_model_module_version": "1.2.0",
      "_model_name": "LayoutModel",
      "_view_count": null,
      "_view_module": "@jupyter-widgets/base",
      "_view_module_version": "1.2.0",
      "_view_name": "LayoutView",
      "align_content": null,
      "align_items": null,
      "align_self": null,
      "border": null,
      "bottom": null,
      "display": null,
      "flex": null,
      "flex_flow": null,
      "grid_area": null,
      "grid_auto_columns": null,
      "grid_auto_flow": null,
      "grid_auto_rows": null,
      "grid_column": null,
      "grid_gap": null,
      "grid_row": null,
      "grid_template_areas": null,
      "grid_template_columns": null,
      "grid_template_rows": null,
      "height": null,
      "justify_content": null,
      "justify_items": null,
      "left": null,
      "margin": null,
      "max_height": null,
      "max_width": null,
      "min_height": null,
      "min_width": null,
      "object_fit": null,
      "object_position": null,
      "order": null,
      "overflow": null,
      "overflow_x": null,
      "overflow_y": null,
      "padding": null,
      "right": null,
      "top": null,
      "visibility": null,
      "width": null
     }
    },
    "8f7aa81de0d647ab96f2f68657c3f955": {
     "model_module": "@jupyter-widgets/controls",
     "model_module_version": "1.5.0",
     "model_name": "DescriptionStyleModel",
     "state": {
      "_model_module": "@jupyter-widgets/controls",
      "_model_module_version": "1.5.0",
      "_model_name": "DescriptionStyleModel",
      "_view_count": null,
      "_view_module": "@jupyter-widgets/base",
      "_view_module_version": "1.2.0",
      "_view_name": "StyleView",
      "description_width": ""
     }
    },
    "90578949f7414b8ba9018d62828f90c6": {
     "model_module": "@jupyter-widgets/controls",
     "model_module_version": "1.5.0",
     "model_name": "DescriptionStyleModel",
     "state": {
      "_model_module": "@jupyter-widgets/controls",
      "_model_module_version": "1.5.0",
      "_model_name": "DescriptionStyleModel",
      "_view_count": null,
      "_view_module": "@jupyter-widgets/base",
      "_view_module_version": "1.2.0",
      "_view_name": "StyleView",
      "description_width": ""
     }
    },
    "920d8d57d37c472abe1479ffe73b0660": {
     "model_module": "@jupyter-widgets/base",
     "model_module_version": "1.2.0",
     "model_name": "LayoutModel",
     "state": {
      "_model_module": "@jupyter-widgets/base",
      "_model_module_version": "1.2.0",
      "_model_name": "LayoutModel",
      "_view_count": null,
      "_view_module": "@jupyter-widgets/base",
      "_view_module_version": "1.2.0",
      "_view_name": "LayoutView",
      "align_content": null,
      "align_items": null,
      "align_self": null,
      "border": null,
      "bottom": null,
      "display": null,
      "flex": null,
      "flex_flow": null,
      "grid_area": null,
      "grid_auto_columns": null,
      "grid_auto_flow": null,
      "grid_auto_rows": null,
      "grid_column": null,
      "grid_gap": null,
      "grid_row": null,
      "grid_template_areas": null,
      "grid_template_columns": null,
      "grid_template_rows": null,
      "height": null,
      "justify_content": null,
      "justify_items": null,
      "left": null,
      "margin": null,
      "max_height": null,
      "max_width": null,
      "min_height": null,
      "min_width": null,
      "object_fit": null,
      "object_position": null,
      "order": null,
      "overflow": null,
      "overflow_x": null,
      "overflow_y": null,
      "padding": null,
      "right": null,
      "top": null,
      "visibility": null,
      "width": null
     }
    },
    "97974388367f445a8e0af85f5743acba": {
     "model_module": "@jupyter-widgets/controls",
     "model_module_version": "1.5.0",
     "model_name": "HTMLModel",
     "state": {
      "_dom_classes": [],
      "_model_module": "@jupyter-widgets/controls",
      "_model_module_version": "1.5.0",
      "_model_name": "HTMLModel",
      "_view_count": null,
      "_view_module": "@jupyter-widgets/controls",
      "_view_module_version": "1.5.0",
      "_view_name": "HTMLView",
      "description": "",
      "description_tooltip": null,
      "layout": "IPY_MODEL_4c5a486f89784d188ca1881b50ef5a31",
      "placeholder": "​",
      "style": "IPY_MODEL_eaeabb305b5a4ffbaa4bfaeec82a6a0e",
      "value": " 32/32 [03:47&lt;00:00,  6.70s/it, acc=0.818, loss=21.9]"
     }
    },
    "b412ce1faa8f4c9d8841e28f6f338532": {
     "model_module": "@jupyter-widgets/base",
     "model_module_version": "1.2.0",
     "model_name": "LayoutModel",
     "state": {
      "_model_module": "@jupyter-widgets/base",
      "_model_module_version": "1.2.0",
      "_model_name": "LayoutModel",
      "_view_count": null,
      "_view_module": "@jupyter-widgets/base",
      "_view_module_version": "1.2.0",
      "_view_name": "LayoutView",
      "align_content": null,
      "align_items": null,
      "align_self": null,
      "border": null,
      "bottom": null,
      "display": null,
      "flex": null,
      "flex_flow": null,
      "grid_area": null,
      "grid_auto_columns": null,
      "grid_auto_flow": null,
      "grid_auto_rows": null,
      "grid_column": null,
      "grid_gap": null,
      "grid_row": null,
      "grid_template_areas": null,
      "grid_template_columns": null,
      "grid_template_rows": null,
      "height": null,
      "justify_content": null,
      "justify_items": null,
      "left": null,
      "margin": null,
      "max_height": null,
      "max_width": null,
      "min_height": null,
      "min_width": null,
      "object_fit": null,
      "object_position": null,
      "order": null,
      "overflow": null,
      "overflow_x": null,
      "overflow_y": null,
      "padding": null,
      "right": null,
      "top": null,
      "visibility": null,
      "width": null
     }
    },
    "c1c814565ef841d48b947ee551bd64a5": {
     "model_module": "@jupyter-widgets/controls",
     "model_module_version": "1.5.0",
     "model_name": "HTMLModel",
     "state": {
      "_dom_classes": [],
      "_model_module": "@jupyter-widgets/controls",
      "_model_module_version": "1.5.0",
      "_model_name": "HTMLModel",
      "_view_count": null,
      "_view_module": "@jupyter-widgets/controls",
      "_view_module_version": "1.5.0",
      "_view_name": "HTMLView",
      "description": "",
      "description_tooltip": null,
      "layout": "IPY_MODEL_b412ce1faa8f4c9d8841e28f6f338532",
      "placeholder": "​",
      "style": "IPY_MODEL_43d15822026e4bcc9dcdd78f42105854",
      "value": "Epoch [1/3]: 100%"
     }
    },
    "c327eca259854b449be99389fcf570e1": {
     "model_module": "@jupyter-widgets/controls",
     "model_module_version": "1.5.0",
     "model_name": "HTMLModel",
     "state": {
      "_dom_classes": [],
      "_model_module": "@jupyter-widgets/controls",
      "_model_module_version": "1.5.0",
      "_model_name": "HTMLModel",
      "_view_count": null,
      "_view_module": "@jupyter-widgets/controls",
      "_view_module_version": "1.5.0",
      "_view_name": "HTMLView",
      "description": "",
      "description_tooltip": null,
      "layout": "IPY_MODEL_ca591008b8e8483b8e67c978bfc747c3",
      "placeholder": "​",
      "style": "IPY_MODEL_11560c94b9c3415782ff3fd953fde91a",
      "value": "Epoch [2/3]: 100%"
     }
    },
    "ca591008b8e8483b8e67c978bfc747c3": {
     "model_module": "@jupyter-widgets/base",
     "model_module_version": "1.2.0",
     "model_name": "LayoutModel",
     "state": {
      "_model_module": "@jupyter-widgets/base",
      "_model_module_version": "1.2.0",
      "_model_name": "LayoutModel",
      "_view_count": null,
      "_view_module": "@jupyter-widgets/base",
      "_view_module_version": "1.2.0",
      "_view_name": "LayoutView",
      "align_content": null,
      "align_items": null,
      "align_self": null,
      "border": null,
      "bottom": null,
      "display": null,
      "flex": null,
      "flex_flow": null,
      "grid_area": null,
      "grid_auto_columns": null,
      "grid_auto_flow": null,
      "grid_auto_rows": null,
      "grid_column": null,
      "grid_gap": null,
      "grid_row": null,
      "grid_template_areas": null,
      "grid_template_columns": null,
      "grid_template_rows": null,
      "height": null,
      "justify_content": null,
      "justify_items": null,
      "left": null,
      "margin": null,
      "max_height": null,
      "max_width": null,
      "min_height": null,
      "min_width": null,
      "object_fit": null,
      "object_position": null,
      "order": null,
      "overflow": null,
      "overflow_x": null,
      "overflow_y": null,
      "padding": null,
      "right": null,
      "top": null,
      "visibility": null,
      "width": null
     }
    },
    "d7bf5202f91f426587c357df36ab3ca0": {
     "model_module": "@jupyter-widgets/controls",
     "model_module_version": "1.5.0",
     "model_name": "FloatProgressModel",
     "state": {
      "_dom_classes": [],
      "_model_module": "@jupyter-widgets/controls",
      "_model_module_version": "1.5.0",
      "_model_name": "FloatProgressModel",
      "_view_count": null,
      "_view_module": "@jupyter-widgets/controls",
      "_view_module_version": "1.5.0",
      "_view_name": "ProgressView",
      "bar_style": "success",
      "description": "",
      "description_tooltip": null,
      "layout": "IPY_MODEL_69838d44e85540a68c6afc44d028123b",
      "max": 32,
      "min": 0,
      "orientation": "horizontal",
      "style": "IPY_MODEL_0a7814950f5d4ede8e38a3e9d3e66c6c",
      "value": 32
     }
    },
    "e37c356b34314cf99a8c3f436279f93e": {
     "model_module": "@jupyter-widgets/controls",
     "model_module_version": "1.5.0",
     "model_name": "HTMLModel",
     "state": {
      "_dom_classes": [],
      "_model_module": "@jupyter-widgets/controls",
      "_model_module_version": "1.5.0",
      "_model_name": "HTMLModel",
      "_view_count": null,
      "_view_module": "@jupyter-widgets/controls",
      "_view_module_version": "1.5.0",
      "_view_name": "HTMLView",
      "description": "",
      "description_tooltip": null,
      "layout": "IPY_MODEL_35886fd932a741aeaaeb1f614a94dd3a",
      "placeholder": "​",
      "style": "IPY_MODEL_8f7aa81de0d647ab96f2f68657c3f955",
      "value": " 32/32 [03:55&lt;00:00,  6.35s/it, acc=0.818, loss=19]"
     }
    },
    "eaeabb305b5a4ffbaa4bfaeec82a6a0e": {
     "model_module": "@jupyter-widgets/controls",
     "model_module_version": "1.5.0",
     "model_name": "DescriptionStyleModel",
     "state": {
      "_model_module": "@jupyter-widgets/controls",
      "_model_module_version": "1.5.0",
      "_model_name": "DescriptionStyleModel",
      "_view_count": null,
      "_view_module": "@jupyter-widgets/base",
      "_view_module_version": "1.2.0",
      "_view_name": "StyleView",
      "description_width": ""
     }
    },
    "edc89bf35d414ffba000e88e27a0d849": {
     "model_module": "@jupyter-widgets/controls",
     "model_module_version": "1.5.0",
     "model_name": "HBoxModel",
     "state": {
      "_dom_classes": [],
      "_model_module": "@jupyter-widgets/controls",
      "_model_module_version": "1.5.0",
      "_model_name": "HBoxModel",
      "_view_count": null,
      "_view_module": "@jupyter-widgets/controls",
      "_view_module_version": "1.5.0",
      "_view_name": "HBoxView",
      "box_style": "",
      "children": [
       "IPY_MODEL_1a8b2c72baaf4df69ee7d6ee638834f2",
       "IPY_MODEL_f5dff7396d07421c9b63b2f52957185d",
       "IPY_MODEL_2bf0892c2eef41219c3f6fcba85dccbd"
      ],
      "layout": "IPY_MODEL_8f75ad7ad52f4877814fc463c6271423"
     }
    },
    "f5dff7396d07421c9b63b2f52957185d": {
     "model_module": "@jupyter-widgets/controls",
     "model_module_version": "1.5.0",
     "model_name": "FloatProgressModel",
     "state": {
      "_dom_classes": [],
      "_model_module": "@jupyter-widgets/controls",
      "_model_module_version": "1.5.0",
      "_model_name": "FloatProgressModel",
      "_view_count": null,
      "_view_module": "@jupyter-widgets/controls",
      "_view_module_version": "1.5.0",
      "_view_name": "ProgressView",
      "bar_style": "success",
      "description": "",
      "description_tooltip": null,
      "layout": "IPY_MODEL_920d8d57d37c472abe1479ffe73b0660",
      "max": 32,
      "min": 0,
      "orientation": "horizontal",
      "style": "IPY_MODEL_592af7cfc1854d7e831e2478194203b0",
      "value": 32
     }
    },
    "fd8263a03c5a4558a9a4532e3de59930": {
     "model_module": "@jupyter-widgets/base",
     "model_module_version": "1.2.0",
     "model_name": "LayoutModel",
     "state": {
      "_model_module": "@jupyter-widgets/base",
      "_model_module_version": "1.2.0",
      "_model_name": "LayoutModel",
      "_view_count": null,
      "_view_module": "@jupyter-widgets/base",
      "_view_module_version": "1.2.0",
      "_view_name": "LayoutView",
      "align_content": null,
      "align_items": null,
      "align_self": null,
      "border": null,
      "bottom": null,
      "display": null,
      "flex": null,
      "flex_flow": null,
      "grid_area": null,
      "grid_auto_columns": null,
      "grid_auto_flow": null,
      "grid_auto_rows": null,
      "grid_column": null,
      "grid_gap": null,
      "grid_row": null,
      "grid_template_areas": null,
      "grid_template_columns": null,
      "grid_template_rows": null,
      "height": null,
      "justify_content": null,
      "justify_items": null,
      "left": null,
      "margin": null,
      "max_height": null,
      "max_width": null,
      "min_height": null,
      "min_width": null,
      "object_fit": null,
      "object_position": null,
      "order": null,
      "overflow": null,
      "overflow_x": null,
      "overflow_y": null,
      "padding": null,
      "right": null,
      "top": null,
      "visibility": null,
      "width": null
     }
    }
   }
  }
 },
 "nbformat": 4,
 "nbformat_minor": 5
}
